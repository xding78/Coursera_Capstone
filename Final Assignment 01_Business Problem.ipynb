{
 "cells": [
  {
   "cell_type": "markdown",
   "metadata": {},
   "source": [
    "# Business Problem"
   ]
  },
  {
   "cell_type": "markdown",
   "metadata": {},
   "source": [
    "*This is part 1 of the Capstone Final Assignment*\n",
    "\n",
    "**My client wants to open a small restaurant in Amsterdam, the Netherlands. She wants to know what would be the ideal location for her restaurant.**\n",
    "\n",
    "# 1. Understand the problem\n",
    "\n",
    "There are a few things that will influence the choice of location.\n",
    "\n",
    "### Question 1: What type of food to serve?\n",
    "\n",
    "For the client, the restaurant is a form of investment. She does not have any preference for what kind of food to serve. For her, the most popular food in the neighborhood would be the preference.\n",
    "This question can be answered, hopefully, by using Foursquare API.\n",
    "\n",
    "Another type of data can help to validate the choice. That is the birthplace of the residence in the area. Base on years of experience, my client assumes that people's preference for food has a strong connection to where they are from.\n",
    "We need demographic information to answer this question.\n",
    "\n",
    "### Question 2: How many similar restaurants already exist?\n",
    "\n",
    "If this new restaurant would be the only one, there will be more profit for my client. So, the number of existing similar restaurants in the neighborhood must be taken into consideration.\n",
    "Again, this question can be answered, hopefully, by using Foursquare API.\n",
    "\n",
    "### Question 3: Who are the target customers and where do they live?\n",
    "\n",
    "It is going to be a small restaurant (5 to 7 tables) due to the limited investment. The primary income would be takeout and orders made online.\n",
    "From past experience, my client knows that people who live alone are more likely to buy takeout or use online food ordering apps such as Uber Eats. They are the ideal target customers for her new restaurant. So, we will look for an area with a relatively high density of one-person household.\n",
    "We need demographic information to answer this question."
   ]
  },
  {
   "cell_type": "code",
   "execution_count": null,
   "metadata": {},
   "outputs": [],
   "source": []
  }
 ],
 "metadata": {
  "kernelspec": {
   "display_name": "Python 3",
   "language": "python",
   "name": "python3"
  },
  "language_info": {
   "codemirror_mode": {
    "name": "ipython",
    "version": 3
   },
   "file_extension": ".py",
   "mimetype": "text/x-python",
   "name": "python",
   "nbconvert_exporter": "python",
   "pygments_lexer": "ipython3",
   "version": "3.7.3"
  }
 },
 "nbformat": 4,
 "nbformat_minor": 2
}
