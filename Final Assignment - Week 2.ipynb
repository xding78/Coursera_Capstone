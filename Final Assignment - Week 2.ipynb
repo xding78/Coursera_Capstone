{
 "cells": [
  {
   "cell_type": "markdown",
   "metadata": {},
   "source": [
    "# Capstone Project - Final Assignment (Week 2)<a id='top'></a>\n",
    "\n",
    "### Table of contents\n",
    "\n",
    "<div class=\"alert alert-block alert-info\" style=\"margin-top: 20px\">\n",
    "    \n",
    "1. [Introduction: The Challenge](#1)<br>\n",
    "1.1. [A Cooperative Iterative Approach](#11)<br>\n",
    "1.2. [About Amsterdam](#12)<br>\n",
    "1.3. [Business Questions](#13)<br>\n",
    "2. [Data Requirements](#2)<br>\n",
    "2.1. [Data of Surroundings](#21)<br>\n",
    "2.2. [Demographic Data](#22)<br>\n",
    "3. [Analyze Demographic Data](#3)<br>\n",
    "3.1. [Load Data to a Dataframe](#31)<br>\n",
    "3.2. [Drop Unnecessary Data](#32)<br>\n",
    "3.3. [Observe Data using a Bar Chart](#33)<br>\n",
    "3.4. [Remove Neighborhoods that have below average population density](#34)<br>\n",
    "3.5. [Neighborhoods that Have More One-person Households](#35)<br>\n",
    "3.6. [View Candidate Neighborhoods on a Map](#36)<br>\n",
    "3.7. [Conclusion of Dermographic Data Analysis](#37)<br>\n",
    "4. [Explore the Surroundings](#4)<br>\n",
    "\n",
    "</div>\n",
    "\n",
    "<br>\n",
    "<hr style=\"border: 1px solid orange;\">"
   ]
  },
  {
   "cell_type": "markdown",
   "metadata": {},
   "source": [
    "<a id=\"1\"></a>\n",
    "# 1. Introduction: The Challenge\n",
    "[Back to top](#top)\n",
    "\n",
    "A good friend of mine, Lingling (a nickname), whoes dream is to open a Chinese restaurant one day to share the joy of good food with others. Now, everything is ready, she can finally realize her dream. She has chosen Amsterdam to be the place that her dream starts. Not only because Amsterdam is one of the most populous and visited cities in Europe but also because the diverse culture the city embraces.\n",
    "\n",
    "My challenge as a data scientist is to help her to find the ideal location in Amsterdam using whatever data I can access.\n",
    "\n",
    "## 1.1. A Cooperative Iterative Approach<a id=\"11\"></a>\n",
    "\n",
    "It's important to emphasize that even though I might know how to deal with data better, [Lingling](#1) definitely knows food business a lot more. Throughout this project, we will work closely together to take full advantage of our expertises.\n",
    "\n",
    "The process is also iterative. Not all decisions made at the begining of the project remains the best ones. We both fully understand that when we learn more about Amsterdam and the its residences, we need to continuously re-examine and fine tune our decisions."
   ]
  },
  {
   "cell_type": "markdown",
   "metadata": {},
   "source": [
    "## 1.2. About Amsterdam<a id=\"12\"></a>\n",
    "\n",
    "[Amsterdam](https://en.wikipedia.org/wiki/Amsterdam) is the capital city and most populous municipality of [the Netherlands](https://en.wikipedia.org/wiki/Netherlands). \n",
    "Here are some facts about its residences:\n",
    "\n",
    "* Amsterdam has a population of **854,047** within the city proper\n",
    "* Amsterdam city proper has **4,457** inhabitants per square kilometer and **2,275** households per square kilometer.\n",
    "* Amsterdam has more than **100 kilometers (60 miles)** of canals, most of which are navigable by boat.\n",
    "\n",
    "As to tourism, Amsterdam is one of the most popular tourist destinations in Europe\n",
    "* Number of international tourists per year: **20.63 million**.\n",
    "* Out of which, the number of day-trippers is: **16 million**.\n",
    "\n",
    "_Reference: https://en.wikipedia.org/wiki/Amsterdam_"
   ]
  },
  {
   "cell_type": "markdown",
   "metadata": {},
   "source": [
    "## 1.3. Business Questions<a id=\"13\"></a>\n",
    "\n",
    "To find the ideal location for the restaurant, we must first seek answers to a few quesions.\n",
    "\n",
    "### Question 1: How many restaurants already exist?\n",
    "\n",
    "If this new restaurant would be the only one in a neighborhood, there will be more profit for [Lingling](#1). So, the number of existing  restaurants in the neighborhood must be taken into consideration.\n",
    "Again, this question can be answered, hopefully, by using Foursquare API.\n",
    "\n",
    "### Question 2: How popular will Chinese food be in the neighborhood?\n",
    "\n",
    "For [Lingling](#1), it's important to serve traditional Chinese food the way she knows. Even though Chinese food is widely loved, it makes sense to double check how existing Chinese restaurants (or Asian restaurants) are perceived.\n",
    "This question can be answered, hopefully, by using Foursquare API.\n",
    "\n",
    "### Question 3: Who are the target customers and where do they live?\n",
    "\n",
    "It is going to be a small restaurant (5 to 7 tables) due to the limited investment. The primary income would be takeout and orders made online.\n",
    "From past experience, [Lingling](#1) knows that people who live alone are more likely to buy takeout or use online food ordering apps such as Uber Eats. They are the ideal target customers for her new restaurant. So, we will look for an area with a relatively high density of one-person household.\n",
    "We need demographic information to answer this question.\n",
    "\n",
    "<br>\n",
    "<hr style=\"border: 1px solid orange;\">"
   ]
  },
  {
   "cell_type": "markdown",
   "metadata": {},
   "source": [
    "# 2. Data Requirements<a id=\"2\"></a>\n",
    "[Back to top](#top)\n",
    "\n",
    "We have the big question, where to open a Chinese restaurant in Amsterdam. Now, we need to collect data that can help us answer the questions. We need to collect data from at least two sources:\n",
    "\n",
    "* Data of the surroundings (density of similar restaurants nearby)\n",
    "* Demographic data (per area in Amsterdam)"
   ]
  },
  {
   "cell_type": "markdown",
   "metadata": {},
   "source": [
    "## 2.1. Data of Surroundings<a id=\"21\"></a>\n",
    "[Back to top](#top)\n",
    "\n",
    "[**Foursquare API**](https://developer.foursquare.com/docs/api/endpoints), or **Google API**.\n",
    "\n",
    "#### Foursqaure API Endpoints that we need:\n",
    "\n",
    "* [**Search**](https://developer.foursquare.com/docs/api/venues/search): Returns a list of venues near the current location, optionally matching a search term.\n",
    "* [**Categories**](https://developer.foursquare.com/docs/api/venues/categories): Returns a hierarchical list of categories applied to venues. This list is also available on the [categories page](https://developer.foursquare.com/docs/resources/categories).\n",
    "* [**Trending**](https://developer.foursquare.com/docs/api/venues/trending): Returns a list of venues near the current location with the most people currently checked in.\n",
    "\n",
    "#### Information isn't available for a free account\n",
    "* **Number of Liks**: Assumption: the more voting, the more the restaurant is visited. It can be used to see how often\n",
    "    * **Unfortunately, this information needs a premium account.**"
   ]
  },
  {
   "cell_type": "markdown",
   "metadata": {},
   "source": [
    "## 2.2 Demographic Data<a id=\"22\"></a>\n",
    "[Back to top](#top)\n",
    "\n",
    "In order to know which neighborhoods are more interesting to investigate further, we need to look into demographic data to pick the neighborhoods that have more target customers in terms of quantity and density.\n",
    "\n",
    "The Central Bureau of Statistics of the Netherlands, **CBS** in short, provides a large number of demographic data regarding who live and work in the Netherlands.<br>\n",
    "In [this page](https://opendata.cbs.nl/statline/#/CBS/nl/dataset/84286NED/table?ts=1558337871247), you can choose whatever feature you need to solve the problem. The list of features is quite comprehensive. It is important, therefore, to define exactly what the data can be used.\n",
    "\n",
    "\n",
    "#### Features that can be used to answer the question\n",
    "\n",
    "* **Regional specifics** _(Regioaanduiding)_: This information can help me to link relative details to a specific area.\n",
    "* **Total Households** _(Particulier huishouden)_: Number of households in a neighborhood.\n",
    "* **One-person Households** _(Eenpersoonshuishoudens)_: Number of the households that with only one person.\n",
    "* **Population density** _(Bevolkingsdichtheid)_: A more densely populated area means more customers for a restaurant. The unit of population density is **number of people per square kilometer**.\n",
    "\n",
    "#### Information that isn't available\n",
    "\n",
    "* **Origin of birth** _(Personen met een migratieachtergrond)_: This information can help us to determine the types of food the restaurant should offer.\n",
    "    * Unfortunately, the categorization is not detailed enough. I am not able to single out people come from China in the data.\n",
    "* **Income per household** _(Inkomen van huishoudens)_: Since restaurants are usually quite expensive comparing to home-cooking. Only people who have sufficient income can afford to go to restaurants often.\n",
    "    * Unfortunately, this information is missing consistently from the database.\n",
    "\n",
    "#### Features deliberately excluded\n",
    "\n",
    "* **Civil status**: Since we can distinguish one-person households, it's not necessary to understand why people live alone (single or divorced does not seem to link to food strategy directly).\n",
    "* **Gender**: Reason, in the Netherlands, there isn't a big difference between men and women in terms of the likeliness of cooking at home.\n",
    "* **Type of house**: This has no direct correlation to people's choice of food.\n",
    "\n",
    "<br>\n",
    "<hr style=\"border: 1px solid orange;\">"
   ]
  },
  {
   "cell_type": "markdown",
   "metadata": {},
   "source": [
    "# 3. Analyze Demographic Data<a id=\"3\"></a>\n",
    "[Back to top](#top)\n",
    "\n",
    "I selected necessary data from [CBS](https://opendata.cbs.nl/statline/#/CBS/nl/dataset/84286NED/table?ts=1558337871247), as mentioned in [chapter 2.2](#22).<br>\n",
    "The data is in CSV format.\n",
    "\n",
    "## 3.1 Load Data to a Dataframe\n",
    "\n",
    "#### Load necessary libraries"
   ]
  },
  {
   "cell_type": "code",
   "execution_count": 3,
   "metadata": {},
   "outputs": [],
   "source": [
    "# library to handle data in a vectorized manner\n",
    "import numpy as np \n",
    "# library to load dataframe\n",
    "import pandas as pd\n",
    "\n",
    "# Matplotlib and associated plotting modules\n",
    "import matplotlib.colors as colors\n",
    "import matplotlib.pyplot as plt"
   ]
  },
  {
   "cell_type": "markdown",
   "metadata": {},
   "source": [
    "#### Load the CSV file"
   ]
  },
  {
   "cell_type": "code",
   "execution_count": 4,
   "metadata": {},
   "outputs": [
    {
     "data": {
      "text/html": [
       "<div>\n",
       "<style scoped>\n",
       "    .dataframe tbody tr th:only-of-type {\n",
       "        vertical-align: middle;\n",
       "    }\n",
       "\n",
       "    .dataframe tbody tr th {\n",
       "        vertical-align: top;\n",
       "    }\n",
       "\n",
       "    .dataframe thead th {\n",
       "        text-align: right;\n",
       "    }\n",
       "</style>\n",
       "<table border=\"1\" class=\"dataframe\">\n",
       "  <thead>\n",
       "    <tr style=\"text-align: right;\">\n",
       "      <th></th>\n",
       "      <th>Neighborhood</th>\n",
       "      <th>ID</th>\n",
       "      <th>Total Residences</th>\n",
       "      <th>Total Households</th>\n",
       "      <th>One-person Households</th>\n",
       "      <th>Population Density</th>\n",
       "      <th>Lat</th>\n",
       "      <th>Lon</th>\n",
       "    </tr>\n",
       "  </thead>\n",
       "  <tbody>\n",
       "    <tr>\n",
       "      <th>0</th>\n",
       "      <td>Burgwallen-Oude Zijde</td>\n",
       "      <td>WK036300</td>\n",
       "      <td>4305</td>\n",
       "      <td>3090</td>\n",
       "      <td>2180</td>\n",
       "      <td>12323</td>\n",
       "      <td>52.371946</td>\n",
       "      <td>4.896103</td>\n",
       "    </tr>\n",
       "    <tr>\n",
       "      <th>1</th>\n",
       "      <td>Burgwallen-Nieuwe Zijde</td>\n",
       "      <td>WK036301</td>\n",
       "      <td>3930</td>\n",
       "      <td>2835</td>\n",
       "      <td>2000</td>\n",
       "      <td>6881</td>\n",
       "      <td>52.373706</td>\n",
       "      <td>4.889922</td>\n",
       "    </tr>\n",
       "    <tr>\n",
       "      <th>2</th>\n",
       "      <td>Grachtengordel-West</td>\n",
       "      <td>WK036302</td>\n",
       "      <td>6385</td>\n",
       "      <td>4110</td>\n",
       "      <td>2570</td>\n",
       "      <td>14261</td>\n",
       "      <td>52.370837</td>\n",
       "      <td>4.885478</td>\n",
       "    </tr>\n",
       "    <tr>\n",
       "      <th>3</th>\n",
       "      <td>Grachtengordel-Zuid</td>\n",
       "      <td>WK036303</td>\n",
       "      <td>5350</td>\n",
       "      <td>3410</td>\n",
       "      <td>2140</td>\n",
       "      <td>10303</td>\n",
       "      <td>52.364422</td>\n",
       "      <td>4.894243</td>\n",
       "    </tr>\n",
       "    <tr>\n",
       "      <th>4</th>\n",
       "      <td>Nieuwmarkt</td>\n",
       "      <td>WK036304</td>\n",
       "      <td>9765</td>\n",
       "      <td>6485</td>\n",
       "      <td>4285</td>\n",
       "      <td>13741</td>\n",
       "      <td>52.372160</td>\n",
       "      <td>4.900096</td>\n",
       "    </tr>\n",
       "  </tbody>\n",
       "</table>\n",
       "</div>"
      ],
      "text/plain": [
       "              Neighborhood        ID  Total Residences  Total Households  \\\n",
       "0    Burgwallen-Oude Zijde  WK036300              4305              3090   \n",
       "1  Burgwallen-Nieuwe Zijde  WK036301              3930              2835   \n",
       "2      Grachtengordel-West  WK036302              6385              4110   \n",
       "3      Grachtengordel-Zuid  WK036303              5350              3410   \n",
       "4               Nieuwmarkt  WK036304              9765              6485   \n",
       "\n",
       "   One-person Households  Population Density        Lat       Lon  \n",
       "0                   2180               12323  52.371946  4.896103  \n",
       "1                   2000                6881  52.373706  4.889922  \n",
       "2                   2570               14261  52.370837  4.885478  \n",
       "3                   2140               10303  52.364422  4.894243  \n",
       "4                   4285               13741  52.372160  4.900096  "
      ]
     },
     "execution_count": 4,
     "metadata": {},
     "output_type": "execute_result"
    }
   ],
   "source": [
    "df = pd.read_csv('https://dl.dropboxusercontent.com/s/wfrh6g2nq4cs0c4/Amsterdam.csv')\n",
    "df.head()"
   ]
  },
  {
   "cell_type": "code",
   "execution_count": 5,
   "metadata": {},
   "outputs": [
    {
     "data": {
      "text/plain": [
       "(65, 8)"
      ]
     },
     "execution_count": 5,
     "metadata": {},
     "output_type": "execute_result"
    }
   ],
   "source": [
    "df.shape"
   ]
  },
  {
   "cell_type": "markdown",
   "metadata": {},
   "source": [
    "#### In total 65 neighborhoods\n",
    "\n",
    "_There are definitely more neighborhoods in Amsterdam municipality. However, for the sake of this challenge, we decided to focus on the neighborhoods that within or connected to Amsterdam city proper._ "
   ]
  },
  {
   "cell_type": "markdown",
   "metadata": {},
   "source": [
    "#### Sort the neighborhoods by the population density"
   ]
  },
  {
   "cell_type": "code",
   "execution_count": 6,
   "metadata": {
    "scrolled": true
   },
   "outputs": [
    {
     "data": {
      "text/html": [
       "<div>\n",
       "<style scoped>\n",
       "    .dataframe tbody tr th:only-of-type {\n",
       "        vertical-align: middle;\n",
       "    }\n",
       "\n",
       "    .dataframe tbody tr th {\n",
       "        vertical-align: top;\n",
       "    }\n",
       "\n",
       "    .dataframe thead th {\n",
       "        text-align: right;\n",
       "    }\n",
       "</style>\n",
       "<table border=\"1\" class=\"dataframe\">\n",
       "  <thead>\n",
       "    <tr style=\"text-align: right;\">\n",
       "      <th></th>\n",
       "      <th>Neighborhood</th>\n",
       "      <th>ID</th>\n",
       "      <th>Total Residences</th>\n",
       "      <th>Total Households</th>\n",
       "      <th>One-person Households</th>\n",
       "      <th>Population Density</th>\n",
       "      <th>Lat</th>\n",
       "      <th>Lon</th>\n",
       "    </tr>\n",
       "  </thead>\n",
       "  <tbody>\n",
       "    <tr>\n",
       "      <th>14</th>\n",
       "      <td>Staatsliedenbuurt</td>\n",
       "      <td>WK036314</td>\n",
       "      <td>13315</td>\n",
       "      <td>8105</td>\n",
       "      <td>4860</td>\n",
       "      <td>28139</td>\n",
       "      <td>52.380287</td>\n",
       "      <td>4.870951</td>\n",
       "    </tr>\n",
       "    <tr>\n",
       "      <th>19</th>\n",
       "      <td>Van Lennepbuurt</td>\n",
       "      <td>WK036319</td>\n",
       "      <td>6990</td>\n",
       "      <td>4535</td>\n",
       "      <td>3005</td>\n",
       "      <td>28005</td>\n",
       "      <td>52.365144</td>\n",
       "      <td>4.867845</td>\n",
       "    </tr>\n",
       "    <tr>\n",
       "      <th>31</th>\n",
       "      <td>Indische Buurt West</td>\n",
       "      <td>WK036331</td>\n",
       "      <td>12640</td>\n",
       "      <td>7060</td>\n",
       "      <td>3930</td>\n",
       "      <td>26985</td>\n",
       "      <td>52.361625</td>\n",
       "      <td>4.938813</td>\n",
       "    </tr>\n",
       "    <tr>\n",
       "      <th>21</th>\n",
       "      <td>Overtoomse Sluis</td>\n",
       "      <td>WK036321</td>\n",
       "      <td>7890</td>\n",
       "      <td>4840</td>\n",
       "      <td>2910</td>\n",
       "      <td>26482</td>\n",
       "      <td>52.359468</td>\n",
       "      <td>4.860689</td>\n",
       "    </tr>\n",
       "    <tr>\n",
       "      <th>18</th>\n",
       "      <td>Kinkerbuurt</td>\n",
       "      <td>WK036318</td>\n",
       "      <td>6590</td>\n",
       "      <td>3950</td>\n",
       "      <td>2460</td>\n",
       "      <td>26135</td>\n",
       "      <td>52.369167</td>\n",
       "      <td>4.866649</td>\n",
       "    </tr>\n",
       "  </tbody>\n",
       "</table>\n",
       "</div>"
      ],
      "text/plain": [
       "           Neighborhood        ID  Total Residences  Total Households  \\\n",
       "14    Staatsliedenbuurt  WK036314             13315              8105   \n",
       "19      Van Lennepbuurt  WK036319              6990              4535   \n",
       "31  Indische Buurt West  WK036331             12640              7060   \n",
       "21     Overtoomse Sluis  WK036321              7890              4840   \n",
       "18          Kinkerbuurt  WK036318              6590              3950   \n",
       "\n",
       "    One-person Households  Population Density        Lat       Lon  \n",
       "14                   4860               28139  52.380287  4.870951  \n",
       "19                   3005               28005  52.365144  4.867845  \n",
       "31                   3930               26985  52.361625  4.938813  \n",
       "21                   2910               26482  52.359468  4.860689  \n",
       "18                   2460               26135  52.369167  4.866649  "
      ]
     },
     "execution_count": 6,
     "metadata": {},
     "output_type": "execute_result"
    }
   ],
   "source": [
    "df.sort_values([\"Population Density\"], axis=0, ascending=False, inplace=True)\n",
    "df.head()"
   ]
  },
  {
   "cell_type": "markdown",
   "metadata": {},
   "source": [
    "## 3.2. Drop Unnecessary Data\n",
    "[Back to top](#top)"
   ]
  },
  {
   "cell_type": "markdown",
   "metadata": {},
   "source": [
    "As we mentioned earlier, we want to learn the population density together with how many households are with only one person. It seems that the total number of residences is not necessary to answer any of the questions. Therefore, we decide to remove it from the data from now on."
   ]
  },
  {
   "cell_type": "code",
   "execution_count": 7,
   "metadata": {},
   "outputs": [
    {
     "data": {
      "text/html": [
       "<div>\n",
       "<style scoped>\n",
       "    .dataframe tbody tr th:only-of-type {\n",
       "        vertical-align: middle;\n",
       "    }\n",
       "\n",
       "    .dataframe tbody tr th {\n",
       "        vertical-align: top;\n",
       "    }\n",
       "\n",
       "    .dataframe thead th {\n",
       "        text-align: right;\n",
       "    }\n",
       "</style>\n",
       "<table border=\"1\" class=\"dataframe\">\n",
       "  <thead>\n",
       "    <tr style=\"text-align: right;\">\n",
       "      <th></th>\n",
       "      <th>Neighborhood</th>\n",
       "      <th>ID</th>\n",
       "      <th>Total Households</th>\n",
       "      <th>One-person Households</th>\n",
       "      <th>Population Density</th>\n",
       "      <th>Lat</th>\n",
       "      <th>Lon</th>\n",
       "    </tr>\n",
       "  </thead>\n",
       "  <tbody>\n",
       "    <tr>\n",
       "      <th>14</th>\n",
       "      <td>Staatsliedenbuurt</td>\n",
       "      <td>WK036314</td>\n",
       "      <td>8105</td>\n",
       "      <td>4860</td>\n",
       "      <td>28139</td>\n",
       "      <td>52.380287</td>\n",
       "      <td>4.870951</td>\n",
       "    </tr>\n",
       "    <tr>\n",
       "      <th>19</th>\n",
       "      <td>Van Lennepbuurt</td>\n",
       "      <td>WK036319</td>\n",
       "      <td>4535</td>\n",
       "      <td>3005</td>\n",
       "      <td>28005</td>\n",
       "      <td>52.365144</td>\n",
       "      <td>4.867845</td>\n",
       "    </tr>\n",
       "    <tr>\n",
       "      <th>31</th>\n",
       "      <td>Indische Buurt West</td>\n",
       "      <td>WK036331</td>\n",
       "      <td>7060</td>\n",
       "      <td>3930</td>\n",
       "      <td>26985</td>\n",
       "      <td>52.361625</td>\n",
       "      <td>4.938813</td>\n",
       "    </tr>\n",
       "    <tr>\n",
       "      <th>21</th>\n",
       "      <td>Overtoomse Sluis</td>\n",
       "      <td>WK036321</td>\n",
       "      <td>4840</td>\n",
       "      <td>2910</td>\n",
       "      <td>26482</td>\n",
       "      <td>52.359468</td>\n",
       "      <td>4.860689</td>\n",
       "    </tr>\n",
       "    <tr>\n",
       "      <th>18</th>\n",
       "      <td>Kinkerbuurt</td>\n",
       "      <td>WK036318</td>\n",
       "      <td>3950</td>\n",
       "      <td>2460</td>\n",
       "      <td>26135</td>\n",
       "      <td>52.369167</td>\n",
       "      <td>4.866649</td>\n",
       "    </tr>\n",
       "  </tbody>\n",
       "</table>\n",
       "</div>"
      ],
      "text/plain": [
       "           Neighborhood        ID  Total Households  One-person Households  \\\n",
       "14    Staatsliedenbuurt  WK036314              8105                   4860   \n",
       "19      Van Lennepbuurt  WK036319              4535                   3005   \n",
       "31  Indische Buurt West  WK036331              7060                   3930   \n",
       "21     Overtoomse Sluis  WK036321              4840                   2910   \n",
       "18          Kinkerbuurt  WK036318              3950                   2460   \n",
       "\n",
       "    Population Density        Lat       Lon  \n",
       "14               28139  52.380287  4.870951  \n",
       "19               28005  52.365144  4.867845  \n",
       "31               26985  52.361625  4.938813  \n",
       "21               26482  52.359468  4.860689  \n",
       "18               26135  52.369167  4.866649  "
      ]
     },
     "execution_count": 7,
     "metadata": {},
     "output_type": "execute_result"
    }
   ],
   "source": [
    "df.drop(\"Total Residences\", axis=1, inplace=True)\n",
    "df.head()"
   ]
  },
  {
   "cell_type": "markdown",
   "metadata": {},
   "source": [
    "## 3.3. Observe Data using a Bar Chart<a id=\"33\"></a>\n",
    "[Back to top](#top)\n",
    "\n",
    "In order to better decide what to do with the data, I want to take a good look at the data. Visualizing the data will help a lot. I choose to use a horizontal bar chart, because I want the neighborhood names to be very easy to read. Due to the number of neighborhoods (65), the vertical bar might not offer enough room to show all the bars."
   ]
  },
  {
   "cell_type": "code",
   "execution_count": 8,
   "metadata": {},
   "outputs": [
    {
     "data": {
      "text/html": [
       "<div>\n",
       "<style scoped>\n",
       "    .dataframe tbody tr th:only-of-type {\n",
       "        vertical-align: middle;\n",
       "    }\n",
       "\n",
       "    .dataframe tbody tr th {\n",
       "        vertical-align: top;\n",
       "    }\n",
       "\n",
       "    .dataframe thead th {\n",
       "        text-align: right;\n",
       "    }\n",
       "</style>\n",
       "<table border=\"1\" class=\"dataframe\">\n",
       "  <thead>\n",
       "    <tr style=\"text-align: right;\">\n",
       "      <th></th>\n",
       "      <th>Neighborhood</th>\n",
       "      <th>Total Households</th>\n",
       "      <th>One-person Households</th>\n",
       "      <th>Population Density</th>\n",
       "    </tr>\n",
       "  </thead>\n",
       "  <tbody>\n",
       "    <tr>\n",
       "      <th>14</th>\n",
       "      <td>Staatsliedenbuurt</td>\n",
       "      <td>8105</td>\n",
       "      <td>4860</td>\n",
       "      <td>28139</td>\n",
       "    </tr>\n",
       "    <tr>\n",
       "      <th>19</th>\n",
       "      <td>Van Lennepbuurt</td>\n",
       "      <td>4535</td>\n",
       "      <td>3005</td>\n",
       "      <td>28005</td>\n",
       "    </tr>\n",
       "    <tr>\n",
       "      <th>31</th>\n",
       "      <td>Indische Buurt West</td>\n",
       "      <td>7060</td>\n",
       "      <td>3930</td>\n",
       "      <td>26985</td>\n",
       "    </tr>\n",
       "    <tr>\n",
       "      <th>21</th>\n",
       "      <td>Overtoomse Sluis</td>\n",
       "      <td>4840</td>\n",
       "      <td>2910</td>\n",
       "      <td>26482</td>\n",
       "    </tr>\n",
       "    <tr>\n",
       "      <th>18</th>\n",
       "      <td>Kinkerbuurt</td>\n",
       "      <td>3950</td>\n",
       "      <td>2460</td>\n",
       "      <td>26135</td>\n",
       "    </tr>\n",
       "  </tbody>\n",
       "</table>\n",
       "</div>"
      ],
      "text/plain": [
       "           Neighborhood  Total Households  One-person Households  \\\n",
       "14    Staatsliedenbuurt              8105                   4860   \n",
       "19      Van Lennepbuurt              4535                   3005   \n",
       "31  Indische Buurt West              7060                   3930   \n",
       "21     Overtoomse Sluis              4840                   2910   \n",
       "18          Kinkerbuurt              3950                   2460   \n",
       "\n",
       "    Population Density  \n",
       "14               28139  \n",
       "19               28005  \n",
       "31               26985  \n",
       "21               26482  \n",
       "18               26135  "
      ]
     },
     "execution_count": 8,
     "metadata": {},
     "output_type": "execute_result"
    }
   ],
   "source": [
    "# step 1: Extract only necessary data\n",
    "df_visualize = df[[\"Neighborhood\", \"Total Households\", \"One-person Households\", \"Population Density\"]]\n",
    "df_visualize.head()"
   ]
  },
  {
   "cell_type": "code",
   "execution_count": 9,
   "metadata": {},
   "outputs": [
    {
     "data": {
      "text/plain": [
       "<matplotlib.lines.Line2D at 0x116e1c908>"
      ]
     },
     "execution_count": 9,
     "metadata": {},
     "output_type": "execute_result"
    },
    {
     "data": {
      "image/png": "[encoded data removed]",
      "text/plain": [
       "<Figure size 1008x1440 with 1 Axes>"
      ]
     },
     "metadata": {
      "needs_background": "light"
     },
     "output_type": "display_data"
    }
   ],
   "source": [
    "ax = df_visualize.plot(kind='barh', figsize=(14,20))\n",
    "#ax.set_title('Population and Households in Amsterdam')\n",
    "ax.set_xlabel('Population and Households in Amsterdam')\n",
    "ax.set_ylabel('Neighborhood')\n",
    "ax.invert_yaxis()\n",
    "ax.set_yticklabels(df['Neighborhood'].values)\n",
    "\n",
    "rects = ax.patches\n",
    "\n",
    "# use axvline to mark the average population density\n",
    "mean = df[\"Population Density\"].mean()\n",
    "ax.axvline(mean, color='#2B9B2A') #Green\n",
    "\n",
    "# use axvline to mark the average total households\n",
    "mean2 = df[\"Total Households\"].mean()\n",
    "ax.axvline(mean2, color='#1E77B4') #Blue\n",
    "\n",
    "# use axvline to mark the average one-person households\n",
    "mean3 = df[\"One-person Households\"].mean()\n",
    "ax.axvline(mean3, color='#FF7F0F') #Orange"
   ]
  },
  {
   "cell_type": "markdown",
   "metadata": {},
   "source": [
    "### 3.3.1. Learnings from the Above Bar Chart<a id=\"331\"></a>\n",
    "[Back to top](#top)\n",
    "\n",
    "1. One thing becomes evident is that many neighborhoods in Amsterdam has much lower population density than the average value. These neighborhoods are very unlikely to be ideal location to open the restaurant. Therefore, we should remove them to focus on the neighborhoods that are more densely populated. We will do that in the [next chapter](#34).\n",
    "2. The second learning is that amongst the more densely populated neighborhoods, not all of them have above average total number of households and one-person households.We will do further analysis in [chapter 3.5](#35) to filter out the neighborhoods that do not have enough one-person households."
   ]
  },
  {
   "cell_type": "markdown",
   "metadata": {},
   "source": [
    "## 3.4. Remove Neighborhoods that have below average population density<a id=\"34\"></a>\n",
    "[Back to top](#top)"
   ]
  },
  {
   "cell_type": "code",
   "execution_count": 10,
   "metadata": {},
   "outputs": [
    {
     "name": "stdout",
     "output_type": "stream",
     "text": [
      "Average population density of Amsterdam city proper is:  13233\n"
     ]
    }
   ],
   "source": [
    "#First calculate the average residences of each neighborhood\n",
    "average_density = int(df[\"Population Density\"].mean())\n",
    "print(\"Average population density of Amsterdam city proper is: \", average_density)"
   ]
  },
  {
   "cell_type": "code",
   "execution_count": 11,
   "metadata": {
    "scrolled": true
   },
   "outputs": [
    {
     "data": {
      "text/html": [
       "<div>\n",
       "<style scoped>\n",
       "    .dataframe tbody tr th:only-of-type {\n",
       "        vertical-align: middle;\n",
       "    }\n",
       "\n",
       "    .dataframe tbody tr th {\n",
       "        vertical-align: top;\n",
       "    }\n",
       "\n",
       "    .dataframe thead th {\n",
       "        text-align: right;\n",
       "    }\n",
       "</style>\n",
       "<table border=\"1\" class=\"dataframe\">\n",
       "  <thead>\n",
       "    <tr style=\"text-align: right;\">\n",
       "      <th></th>\n",
       "      <th>Neighborhood</th>\n",
       "      <th>ID</th>\n",
       "      <th>Total Households</th>\n",
       "      <th>One-person Households</th>\n",
       "      <th>Population Density</th>\n",
       "      <th>Lat</th>\n",
       "      <th>Lon</th>\n",
       "    </tr>\n",
       "  </thead>\n",
       "  <tbody>\n",
       "    <tr>\n",
       "      <th>14</th>\n",
       "      <td>Staatsliedenbuurt</td>\n",
       "      <td>WK036314</td>\n",
       "      <td>8105</td>\n",
       "      <td>4860</td>\n",
       "      <td>28139</td>\n",
       "      <td>52.380287</td>\n",
       "      <td>4.870951</td>\n",
       "    </tr>\n",
       "    <tr>\n",
       "      <th>19</th>\n",
       "      <td>Van Lennepbuurt</td>\n",
       "      <td>WK036319</td>\n",
       "      <td>4535</td>\n",
       "      <td>3005</td>\n",
       "      <td>28005</td>\n",
       "      <td>52.365144</td>\n",
       "      <td>4.867845</td>\n",
       "    </tr>\n",
       "    <tr>\n",
       "      <th>31</th>\n",
       "      <td>Indische Buurt West</td>\n",
       "      <td>WK036331</td>\n",
       "      <td>7060</td>\n",
       "      <td>3930</td>\n",
       "      <td>26985</td>\n",
       "      <td>52.361625</td>\n",
       "      <td>4.938813</td>\n",
       "    </tr>\n",
       "    <tr>\n",
       "      <th>21</th>\n",
       "      <td>Overtoomse Sluis</td>\n",
       "      <td>WK036321</td>\n",
       "      <td>4840</td>\n",
       "      <td>2910</td>\n",
       "      <td>26482</td>\n",
       "      <td>52.359468</td>\n",
       "      <td>4.860689</td>\n",
       "    </tr>\n",
       "    <tr>\n",
       "      <th>18</th>\n",
       "      <td>Kinkerbuurt</td>\n",
       "      <td>WK036318</td>\n",
       "      <td>3950</td>\n",
       "      <td>2460</td>\n",
       "      <td>26135</td>\n",
       "      <td>52.369167</td>\n",
       "      <td>4.866649</td>\n",
       "    </tr>\n",
       "  </tbody>\n",
       "</table>\n",
       "</div>"
      ],
      "text/plain": [
       "           Neighborhood        ID  Total Households  One-person Households  \\\n",
       "14    Staatsliedenbuurt  WK036314              8105                   4860   \n",
       "19      Van Lennepbuurt  WK036319              4535                   3005   \n",
       "31  Indische Buurt West  WK036331              7060                   3930   \n",
       "21     Overtoomse Sluis  WK036321              4840                   2910   \n",
       "18          Kinkerbuurt  WK036318              3950                   2460   \n",
       "\n",
       "    Population Density        Lat       Lon  \n",
       "14               28139  52.380287  4.870951  \n",
       "19               28005  52.365144  4.867845  \n",
       "31               26985  52.361625  4.938813  \n",
       "21               26482  52.359468  4.860689  \n",
       "18               26135  52.369167  4.866649  "
      ]
     },
     "execution_count": 11,
     "metadata": {},
     "output_type": "execute_result"
    }
   ],
   "source": [
    "#Drop all neighborhoods that has a Total Households number below average\n",
    "#result[result['Value'] ! <= 10]  \n",
    "df = df[df[\"Population Density\"] > average_density]\n",
    "df.head()"
   ]
  },
  {
   "cell_type": "code",
   "execution_count": 12,
   "metadata": {},
   "outputs": [
    {
     "name": "stdout",
     "output_type": "stream",
     "text": [
      "Number of neighborhoods that has higher than average population density:  29\n"
     ]
    }
   ],
   "source": [
    "print(\"Number of neighborhoods that has higher than average population density: \", df.shape[0])"
   ]
  },
  {
   "cell_type": "markdown",
   "metadata": {},
   "source": [
    "## 3.5. Neighborhoods that Have More One-person Households<a id=\"35\"></a>\n",
    "[Back to top](#top)"
   ]
  },
  {
   "cell_type": "code",
   "execution_count": 13,
   "metadata": {},
   "outputs": [
    {
     "data": {
      "text/html": [
       "<div>\n",
       "<style scoped>\n",
       "    .dataframe tbody tr th:only-of-type {\n",
       "        vertical-align: middle;\n",
       "    }\n",
       "\n",
       "    .dataframe tbody tr th {\n",
       "        vertical-align: top;\n",
       "    }\n",
       "\n",
       "    .dataframe thead th {\n",
       "        text-align: right;\n",
       "    }\n",
       "</style>\n",
       "<table border=\"1\" class=\"dataframe\">\n",
       "  <thead>\n",
       "    <tr style=\"text-align: right;\">\n",
       "      <th></th>\n",
       "      <th>Neighborhood</th>\n",
       "      <th>ID</th>\n",
       "      <th>Total Households</th>\n",
       "      <th>One-person Households</th>\n",
       "      <th>Population Density</th>\n",
       "      <th>Lat</th>\n",
       "      <th>Lon</th>\n",
       "      <th>Percentage of One-person Households</th>\n",
       "    </tr>\n",
       "  </thead>\n",
       "  <tbody>\n",
       "    <tr>\n",
       "      <th>14</th>\n",
       "      <td>Staatsliedenbuurt</td>\n",
       "      <td>WK036314</td>\n",
       "      <td>8105</td>\n",
       "      <td>4860</td>\n",
       "      <td>28139</td>\n",
       "      <td>52.380287</td>\n",
       "      <td>4.870951</td>\n",
       "      <td>59.96</td>\n",
       "    </tr>\n",
       "    <tr>\n",
       "      <th>19</th>\n",
       "      <td>Van Lennepbuurt</td>\n",
       "      <td>WK036319</td>\n",
       "      <td>4535</td>\n",
       "      <td>3005</td>\n",
       "      <td>28005</td>\n",
       "      <td>52.365144</td>\n",
       "      <td>4.867845</td>\n",
       "      <td>66.26</td>\n",
       "    </tr>\n",
       "    <tr>\n",
       "      <th>31</th>\n",
       "      <td>Indische Buurt West</td>\n",
       "      <td>WK036331</td>\n",
       "      <td>7060</td>\n",
       "      <td>3930</td>\n",
       "      <td>26985</td>\n",
       "      <td>52.361625</td>\n",
       "      <td>4.938813</td>\n",
       "      <td>55.67</td>\n",
       "    </tr>\n",
       "    <tr>\n",
       "      <th>21</th>\n",
       "      <td>Overtoomse Sluis</td>\n",
       "      <td>WK036321</td>\n",
       "      <td>4840</td>\n",
       "      <td>2910</td>\n",
       "      <td>26482</td>\n",
       "      <td>52.359468</td>\n",
       "      <td>4.860689</td>\n",
       "      <td>60.12</td>\n",
       "    </tr>\n",
       "    <tr>\n",
       "      <th>18</th>\n",
       "      <td>Kinkerbuurt</td>\n",
       "      <td>WK036318</td>\n",
       "      <td>3950</td>\n",
       "      <td>2460</td>\n",
       "      <td>26135</td>\n",
       "      <td>52.369167</td>\n",
       "      <td>4.866649</td>\n",
       "      <td>62.28</td>\n",
       "    </tr>\n",
       "  </tbody>\n",
       "</table>\n",
       "</div>"
      ],
      "text/plain": [
       "           Neighborhood        ID  Total Households  One-person Households  \\\n",
       "14    Staatsliedenbuurt  WK036314              8105                   4860   \n",
       "19      Van Lennepbuurt  WK036319              4535                   3005   \n",
       "31  Indische Buurt West  WK036331              7060                   3930   \n",
       "21     Overtoomse Sluis  WK036321              4840                   2910   \n",
       "18          Kinkerbuurt  WK036318              3950                   2460   \n",
       "\n",
       "    Population Density        Lat       Lon  \\\n",
       "14               28139  52.380287  4.870951   \n",
       "19               28005  52.365144  4.867845   \n",
       "31               26985  52.361625  4.938813   \n",
       "21               26482  52.359468  4.860689   \n",
       "18               26135  52.369167  4.866649   \n",
       "\n",
       "    Percentage of One-person Households  \n",
       "14                                59.96  \n",
       "19                                66.26  \n",
       "31                                55.67  \n",
       "21                                60.12  \n",
       "18                                62.28  "
      ]
     },
     "execution_count": 13,
     "metadata": {},
     "output_type": "execute_result"
    }
   ],
   "source": [
    "#calculate the percentage of one-person households of every neighborhood\n",
    "df[\"Percentage of One-person Households\"] = round(df[\"One-person Households\"] / df[\"Total Households\"]*10000)/100\n",
    "df.head()"
   ]
  },
  {
   "cell_type": "code",
   "execution_count": 14,
   "metadata": {},
   "outputs": [
    {
     "data": {
      "text/html": [
       "<div>\n",
       "<style scoped>\n",
       "    .dataframe tbody tr th:only-of-type {\n",
       "        vertical-align: middle;\n",
       "    }\n",
       "\n",
       "    .dataframe tbody tr th {\n",
       "        vertical-align: top;\n",
       "    }\n",
       "\n",
       "    .dataframe thead th {\n",
       "        text-align: right;\n",
       "    }\n",
       "</style>\n",
       "<table border=\"1\" class=\"dataframe\">\n",
       "  <thead>\n",
       "    <tr style=\"text-align: right;\">\n",
       "      <th></th>\n",
       "      <th>Neighborhood</th>\n",
       "      <th>ID</th>\n",
       "      <th>Total Households</th>\n",
       "      <th>One-person Households</th>\n",
       "      <th>Population Density</th>\n",
       "      <th>Lat</th>\n",
       "      <th>Lon</th>\n",
       "      <th>Percentage of One-person Households</th>\n",
       "    </tr>\n",
       "  </thead>\n",
       "  <tbody>\n",
       "    <tr>\n",
       "      <th>6</th>\n",
       "      <td>Jordaan</td>\n",
       "      <td>WK036306</td>\n",
       "      <td>12985</td>\n",
       "      <td>8625</td>\n",
       "      <td>23289</td>\n",
       "      <td>52.374500</td>\n",
       "      <td>4.879491</td>\n",
       "      <td>66.42</td>\n",
       "    </tr>\n",
       "    <tr>\n",
       "      <th>19</th>\n",
       "      <td>Van Lennepbuurt</td>\n",
       "      <td>WK036319</td>\n",
       "      <td>4535</td>\n",
       "      <td>3005</td>\n",
       "      <td>28005</td>\n",
       "      <td>52.365144</td>\n",
       "      <td>4.867845</td>\n",
       "      <td>66.26</td>\n",
       "    </tr>\n",
       "    <tr>\n",
       "      <th>4</th>\n",
       "      <td>Nieuwmarkt</td>\n",
       "      <td>WK036304</td>\n",
       "      <td>6485</td>\n",
       "      <td>4285</td>\n",
       "      <td>13741</td>\n",
       "      <td>52.372160</td>\n",
       "      <td>4.900096</td>\n",
       "      <td>66.08</td>\n",
       "    </tr>\n",
       "    <tr>\n",
       "      <th>24</th>\n",
       "      <td>Oude Pijp</td>\n",
       "      <td>WK036324</td>\n",
       "      <td>9875</td>\n",
       "      <td>6510</td>\n",
       "      <td>23353</td>\n",
       "      <td>52.355216</td>\n",
       "      <td>4.894574</td>\n",
       "      <td>65.92</td>\n",
       "    </tr>\n",
       "    <tr>\n",
       "      <th>25</th>\n",
       "      <td>Nieuwe Pijp</td>\n",
       "      <td>WK036325</td>\n",
       "      <td>7905</td>\n",
       "      <td>5015</td>\n",
       "      <td>23998</td>\n",
       "      <td>52.351856</td>\n",
       "      <td>4.897728</td>\n",
       "      <td>63.44</td>\n",
       "    </tr>\n",
       "  </tbody>\n",
       "</table>\n",
       "</div>"
      ],
      "text/plain": [
       "       Neighborhood        ID  Total Households  One-person Households  \\\n",
       "6           Jordaan  WK036306             12985                   8625   \n",
       "19  Van Lennepbuurt  WK036319              4535                   3005   \n",
       "4        Nieuwmarkt  WK036304              6485                   4285   \n",
       "24        Oude Pijp  WK036324              9875                   6510   \n",
       "25      Nieuwe Pijp  WK036325              7905                   5015   \n",
       "\n",
       "    Population Density        Lat       Lon  \\\n",
       "6                23289  52.374500  4.879491   \n",
       "19               28005  52.365144  4.867845   \n",
       "4                13741  52.372160  4.900096   \n",
       "24               23353  52.355216  4.894574   \n",
       "25               23998  52.351856  4.897728   \n",
       "\n",
       "    Percentage of One-person Households  \n",
       "6                                 66.42  \n",
       "19                                66.26  \n",
       "4                                 66.08  \n",
       "24                                65.92  \n",
       "25                                63.44  "
      ]
     },
     "execution_count": 14,
     "metadata": {},
     "output_type": "execute_result"
    }
   ],
   "source": [
    "#sorting data frame by Percentage of One-person Households\n",
    "df.sort_values([\"Percentage of One-person Households\"], axis=0, ascending=False, inplace=True) \n",
    "df.head()"
   ]
  },
  {
   "cell_type": "code",
   "execution_count": 15,
   "metadata": {},
   "outputs": [
    {
     "data": {
      "text/html": [
       "<div>\n",
       "<style scoped>\n",
       "    .dataframe tbody tr th:only-of-type {\n",
       "        vertical-align: middle;\n",
       "    }\n",
       "\n",
       "    .dataframe tbody tr th {\n",
       "        vertical-align: top;\n",
       "    }\n",
       "\n",
       "    .dataframe thead th {\n",
       "        text-align: right;\n",
       "    }\n",
       "</style>\n",
       "<table border=\"1\" class=\"dataframe\">\n",
       "  <thead>\n",
       "    <tr style=\"text-align: right;\">\n",
       "      <th></th>\n",
       "      <th>Neighborhood</th>\n",
       "      <th>Percentage of One-person Households</th>\n",
       "    </tr>\n",
       "  </thead>\n",
       "  <tbody>\n",
       "    <tr>\n",
       "      <th>6</th>\n",
       "      <td>Jordaan</td>\n",
       "      <td>66.42</td>\n",
       "    </tr>\n",
       "    <tr>\n",
       "      <th>19</th>\n",
       "      <td>Van Lennepbuurt</td>\n",
       "      <td>66.26</td>\n",
       "    </tr>\n",
       "    <tr>\n",
       "      <th>4</th>\n",
       "      <td>Nieuwmarkt</td>\n",
       "      <td>66.08</td>\n",
       "    </tr>\n",
       "    <tr>\n",
       "      <th>24</th>\n",
       "      <td>Oude Pijp</td>\n",
       "      <td>65.92</td>\n",
       "    </tr>\n",
       "    <tr>\n",
       "      <th>25</th>\n",
       "      <td>Nieuwe Pijp</td>\n",
       "      <td>63.44</td>\n",
       "    </tr>\n",
       "  </tbody>\n",
       "</table>\n",
       "</div>"
      ],
      "text/plain": [
       "       Neighborhood  Percentage of One-person Households\n",
       "6           Jordaan                                66.42\n",
       "19  Van Lennepbuurt                                66.26\n",
       "4        Nieuwmarkt                                66.08\n",
       "24        Oude Pijp                                65.92\n",
       "25      Nieuwe Pijp                                63.44"
      ]
     },
     "execution_count": 15,
     "metadata": {},
     "output_type": "execute_result"
    }
   ],
   "source": [
    "# step 1: Extract only necessary data\n",
    "# oph stands for One-person Households\n",
    "df_oph = df[[\"Neighborhood\", \"Percentage of One-person Households\"]]\n",
    "df_oph.head()"
   ]
  },
  {
   "cell_type": "code",
   "execution_count": 16,
   "metadata": {},
   "outputs": [
    {
     "data": {
      "text/plain": [
       "<matplotlib.lines.Line2D at 0x1041e57f0>"
      ]
     },
     "execution_count": 16,
     "metadata": {},
     "output_type": "execute_result"
    },
    {
     "data": {
      "image/png": "[encoded data removed]",
      "text/plain": [
       "<Figure size 1008x720 with 1 Axes>"
      ]
     },
     "metadata": {
      "needs_background": "light"
     },
     "output_type": "display_data"
    }
   ],
   "source": [
    "# step 2: plot data\n",
    "ax = df_oph.plot(kind='barh', figsize=(14,10))\n",
    "ax.set_title('Population density per neighborhood in Amsterdam')\n",
    "ax.set_xlabel('Population Density')\n",
    "ax.set_ylabel('Neighborhood')\n",
    "ax.invert_yaxis()\n",
    "ax.set_yticklabels(df_oph['Neighborhood'].values)\n",
    "\n",
    "rects = ax.patches\n",
    "\n",
    "ax.axvline(61, color='r')"
   ]
  },
  {
   "cell_type": "markdown",
   "metadata": {},
   "source": [
    "### 3.5.1. Learnings from the Above Bar Chart<a id='351'></a>\n",
    "[Back to top](#top)\n",
    "\n",
    "As mentioned after we examine the data in a bar chart ([chapter 3.3.1](#331)). It seems that the percentage of one-person households (in comparison to the total number of households) seems to be rather consistent for the neighborhoods that have above average population density.\n",
    "\n",
    "Now, in the above bar chart, the consistency becomes quite clear.\n",
    "\n",
    "However, we observe there are roughly 3 ranges of the percentage:\n",
    "\n",
    "1. High: 66% ~ 67%. The first four neighborhood\n",
    "2. Medium: 59% ~ 63.5%. \n",
    "3. Low: 53% ~ 59%. The last 10 neighborhood\n",
    "\n",
    "We decided to focus on the **top 10**, the neighborhoods that have **over 61 percent of one-person households** (Marked by the red line in the above bar chart)."
   ]
  },
  {
   "cell_type": "code",
   "execution_count": 17,
   "metadata": {},
   "outputs": [
    {
     "data": {
      "text/plain": [
       "(10, 8)"
      ]
     },
     "execution_count": 17,
     "metadata": {},
     "output_type": "execute_result"
    }
   ],
   "source": [
    "df = df[df[\"Percentage of One-person Households\"] > 61.0]\n",
    "df.shape"
   ]
  },
  {
   "cell_type": "markdown",
   "metadata": {},
   "source": [
    "## 3.6. View Candidate Neighborhoods on a Map<a id=\"36\"></a>\n",
    "[Back to top](#top)"
   ]
  },
  {
   "cell_type": "code",
   "execution_count": 19,
   "metadata": {},
   "outputs": [
    {
     "name": "stdout",
     "output_type": "stream",
     "text": [
      "Collecting package metadata: done\n",
      "Solving environment: done\n",
      "\n",
      "# All requested packages already installed.\n",
      "\n"
     ]
    }
   ],
   "source": [
    "#Install folium\n",
    "!conda install -c conda-forge folium=0.5.0 --yes\n",
    "import folium # map rendering library"
   ]
  },
  {
   "cell_type": "code",
   "execution_count": 20,
   "metadata": {},
   "outputs": [
    {
     "name": "stdout",
     "output_type": "stream",
     "text": [
      "Collecting package metadata: done\n",
      "Solving environment: done\n",
      "\n",
      "# All requested packages already installed.\n",
      "\n"
     ]
    }
   ],
   "source": [
    "!conda install -c conda-forge geopy --yes # uncomment this line if you haven't completed the Foursquare API lab\n",
    "from geopy.geocoders import Nominatim # convert an address into latitude and longitude values"
   ]
  },
  {
   "cell_type": "code",
   "execution_count": 21,
   "metadata": {},
   "outputs": [
    {
     "name": "stdout",
     "output_type": "stream",
     "text": [
      "The geograpical coordinate of Amsterdam are 52.3745403, 4.89797550561798.\n"
     ]
    }
   ],
   "source": [
    "address = 'Amsterdam, The Netherlands'\n",
    "\n",
    "geolocator = Nominatim(user_agent=\"amsterdam\")\n",
    "location = geolocator.geocode(address)\n",
    "latitude = location.latitude\n",
    "longitude = location.longitude\n",
    "print('The geograpical coordinate of Amsterdam are {}, {}.'.format(latitude, longitude))"
   ]
  },
  {
   "cell_type": "markdown",
   "metadata": {},
   "source": [
    "### 3.6.1. First Impression of the Candidate Neighborhoods\n",
    "[Back to top](#top)\n",
    "\n",
    "Visualize one feature (number of one-person households) to get an impression of the 10 candidate neighborhoods."
   ]
  },
  {
   "cell_type": "code",
   "execution_count": 22,
   "metadata": {},
   "outputs": [
    {
     "data": {
      "text/html": [
       "<div style=\"width:100%;\"><div style=\"position:relative;width:100%;height:0;padding-bottom:60%;\"><iframe src=\"data:text/html;charset=utf-8;base64,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\" style=\"position:absolute;width:100%;height:100%;left:0;top:0;border:none !important;\" allowfullscreen webkitallowfullscreen mozallowfullscreen></iframe></div></div>"
      ],
      "text/plain": [
       "<folium.folium.Map at 0x118af31d0>"
      ]
     },
     "execution_count": 22,
     "metadata": {},
     "output_type": "execute_result"
    }
   ],
   "source": [
    "# create map of New York using latitude and longitude values\n",
    "map_amsterdam = folium.Map(location=[latitude, longitude], tiles='cartodbpositron', zoom_start=13)\n",
    "\n",
    "# add markers to map\n",
    "for lat, lng, neighborhood, oph in zip(df['Lat'], df['Lon'], df['Neighborhood'], df['One-person Households']):\n",
    "    label = '{}'.format(neighborhood)\n",
    "    label = folium.Popup(label, parse_html=True)\n",
    "    folium.Circle(\n",
    "        [lat, lng],\n",
    "        radius=oph/25,\n",
    "        popup=label, \n",
    "        color='#FF7F0F', # Orange\n",
    "        fill=True,\n",
    "        fill_color='#FF7F0F',\n",
    "        fill_opacity=0.3).add_to(map_amsterdam)\n",
    "    \n",
    "map_amsterdam"
   ]
  },
  {
   "cell_type": "markdown",
   "metadata": {},
   "source": [
    "### 3.6.2. Visualize More Features on the Map\n",
    "\n",
    "The above map gives us an impression of how the numbers of one-person households per neighborhood looks like.\n",
    "\n",
    "Now let's add three features to the map:\n",
    "\n",
    "1. **Orange circles** represent the number of one-person households.\n",
    "2. **Blue circles** represent the number of households in total.\n",
    "3. **Green circles** represent the population density.\n",
    "\n",
    "As to the circles:\n",
    "\n",
    "* The center of the orange, green, and blue circles is the center of the neighborhood. Click the center of the circles to see the name of the neighborhood.\n",
    "* The radius of each circle represents the number of each feature.\n",
    "\n",
    "In order to show a more zoomed in map view, we re-adjust the center of the map.\n",
    "\n",
    "#### Re-adjust the center of the 10 candidate neighborhoods"
   ]
  },
  {
   "cell_type": "code",
   "execution_count": 23,
   "metadata": {},
   "outputs": [],
   "source": [
    "center_lat = 52.364483\n",
    "center_lon = 4.88949"
   ]
  },
  {
   "cell_type": "markdown",
   "metadata": {},
   "source": [
    "#### Draw the Map with One-person Households, Total Households, and Population Density."
   ]
  },
  {
   "cell_type": "code",
   "execution_count": 24,
   "metadata": {
    "scrolled": false
   },
   "outputs": [
    {
     "data": {
      "text/html": [
       "<div style=\"width:100%;\"><div style=\"position:relative;width:100%;height:0;padding-bottom:60%;\"><iframe src=\"data:text/html;charset=utf-8;base64,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\" style=\"position:absolute;width:100%;height:100%;left:0;top:0;border:none !important;\" allowfullscreen webkitallowfullscreen mozallowfullscreen></iframe></div></div>"
      ],
      "text/plain": [
       "<folium.folium.Map at 0x118b4f630>"
      ]
     },
     "execution_count": 24,
     "metadata": {},
     "output_type": "execute_result"
    }
   ],
   "source": [
    "# create map of Amsterdam using latitude and longitude values\n",
    "map_amsterdam = folium.Map(location=[center_lat, center_lon], tiles='cartodbpositron', zoom_start=14)\n",
    "\n",
    "# add markers that represent one-person households to the map\n",
    "for lat, lng, neighborhood, oph in zip(df['Lat'], df['Lon'], df['Neighborhood'], df['One-person Households']):\n",
    "    label = '{}'.format(neighborhood)\n",
    "    label = folium.Popup(label, parse_html=True)\n",
    "    folium.Circle(\n",
    "        [lat, lng],\n",
    "        radius=oph/25,\n",
    "        popup=label,\n",
    "        color='#FF7F0F', # Orange\n",
    "        fill=True,\n",
    "        fill_color='#FF7F0F', \n",
    "        fill_opacity=0.3\n",
    "    ).add_to(map_amsterdam)\n",
    "\n",
    "# add markers that represent total households to the map\n",
    "for lat, lng, neighborhood, households in zip(df['Lat'], df['Lon'], df['Neighborhood'], df['Total Households']):\n",
    "    label = '{}'.format(neighborhood)\n",
    "    label = folium.Popup(label, parse_html=True)\n",
    "    folium.Circle(\n",
    "        [lat, lng],\n",
    "        radius=households/25,\n",
    "        popup=label,\n",
    "        color='#1E77B4', # Blue\n",
    "        fill=False\n",
    "    ).add_to(map_amsterdam)\n",
    "    \n",
    "# add markers that represent population density to the map\n",
    "for lat, lng, neighborhood, density in zip(df['Lat'], df['Lon'], df['Neighborhood'], df['Population Density']):\n",
    "    label = '{}'.format(neighborhood)\n",
    "    label = folium.Popup(label, parse_html=True)\n",
    "    folium.Circle(\n",
    "        [lat, lng],\n",
    "        radius=density/100,\n",
    "        popup=label,\n",
    "        color='#2A9E2A', # Green\n",
    "        fill=False\n",
    "    ).add_to(map_amsterdam)\n",
    "    \n",
    "map_amsterdam"
   ]
  },
  {
   "cell_type": "markdown",
   "metadata": {},
   "source": [
    "### Learnings from the above data visualization\n",
    "\n",
    "As you can see, when we choose an ideal location to open the Chinese restaurant:\n",
    "* **The bigger the green circles the better.**\n",
    "* **The less difference between the size of the blue circles and the orange circles the better.**"
   ]
  },
  {
   "cell_type": "markdown",
   "metadata": {},
   "source": [
    "## 3.7. Conclusion of Dermographic Data Analysis<a id='37'></a>\n",
    "[Back to top](#top)\n",
    "\n",
    "Through the above analysis, we have chosen **10** out of **65** neighborhoods in Amsterdam city proper as our candidate neighborhood to investigate further.\n",
    "\n",
    "In the next chapter we will further analyze the **10** neighborhoods by looking into the number of restaurants and the density of Chinese restaurants to further narrow down to **3 ~ 5** neighborhoods for future analysis.\n",
    "\n",
    "<br>\n",
    "<hr style=\"border: 1px solid orange;\">"
   ]
  },
  {
   "cell_type": "markdown",
   "metadata": {},
   "source": [
    "# 4. Explore the Sorroundings<a id='4'></a>\n",
    "[Back to top](#top)\n",
    "\n",
    "As mentioned earlier, we are going to use [**Foursquare API**](https://developer.foursquare.com/docs/api/endpoints) to continue our exploration of the **19** candidate neighborhoods.\n",
    "\n",
    "#### Foursqaure API Endpoints that we need:\n",
    "\n",
    "* [**Search**](https://developer.foursquare.com/docs/api/venues/search): Returns a list of venues near the current location, optionally matching a search term.\n",
    "* [**Categories**](https://developer.foursquare.com/docs/api/venues/categories): Returns a hierarchical list of categories applied to venues. This list is also available on the [categories page](https://developer.foursquare.com/docs/resources/categories).\n",
    "* [**Trending**](https://developer.foursquare.com/docs/api/venues/trending): Returns a list of venues near the current location with the most people currently checked in."
   ]
  },
  {
   "cell_type": "markdown",
   "metadata": {},
   "source": [
    "## 4.1. Define Foursquare Credentials and Version<a id='41'></a>\n",
    "[Back to top](#top)\n",
    "\n",
    "Get the **Client_ID** and **Client_Secret** from Foursqure [MyApp](https://foursquare.com/developers/apps) to get the credentials.<br>\n",
    "**Version** is the date when this notebook was created."
   ]
  },
  {
   "cell_type": "code",
   "execution_count": 25,
   "metadata": {},
   "outputs": [
    {
     "name": "stdout",
     "output_type": "stream",
     "text": [
      "Your credentails:\n",
      "CLIENT_ID: AHPVRYQIQT4LOYOT0ZEN0OJR24ERX1E5CXPFRKFQ1D44JWJH\n",
      "CLIENT_SECRET:XJ1ASSSXERK2W5OLNAC00KYF4NZM2SECBZKHHE5GELUXLEG0\n"
     ]
    }
   ],
   "source": [
    "CLIENT_ID = 'AHPVRYQIQT4LOYOT0ZEN0OJR24ERX1E5CXPFRKFQ1D44JWJH' # your Foursquare ID\n",
    "CLIENT_SECRET = 'XJ1ASSSXERK2W5OLNAC00KYF4NZM2SECBZKHHE5GELUXLEG0' # your Foursquare Secret\n",
    "VERSION = '20190512'\n",
    "LIMIT = 50 # With a free account the max result one query returns is 50. It is very limiting.\n",
    "print('Your credentails:')\n",
    "print('CLIENT_ID: ' + CLIENT_ID)\n",
    "print('CLIENT_SECRET:' + CLIENT_SECRET)"
   ]
  },
  {
   "cell_type": "markdown",
   "metadata": {},
   "source": [
    "#### Load necessary libraries"
   ]
  },
  {
   "cell_type": "code",
   "execution_count": 26,
   "metadata": {},
   "outputs": [],
   "source": [
    "# library to handle requests\n",
    "import requests\n",
    "# tranforming json file into a pandas dataframe library\n",
    "from pandas.io.json import json_normalize"
   ]
  },
  {
   "cell_type": "markdown",
   "metadata": {},
   "source": [
    "## 4.2. Show Chinese Restaurants in Candidate Neighborhoods on the Map<a id='42'></a>\n",
    "[Back to top](#top)\n",
    "\n",
    "`https://api.foursquare.com/v2/venues/`**search**`?client_id=`**CLIENT_ID**<br>\n",
    "`&client_secret=`**CLIENT_SECRET**<br>\n",
    "`&ll=`**LATITUDE**`,`**LONGITUDE**<br>\n",
    "`&v=`**VERSION**<br>\n",
    "`&categoryId=`**[category](https://developer.foursquare.com/docs/resources/categories)**<br>\n",
    "`&radius=`**RADIUS**<br>\n",
    "`&limit=`**LIMIT**<br>\n",
    "\n",
    "Define a query to search for all the restuarants that are within 5 km from the **center of all the 10 candidate neighborhoods**."
   ]
  },
  {
   "cell_type": "code",
   "execution_count": 27,
   "metadata": {},
   "outputs": [
    {
     "name": "stdout",
     "output_type": "stream",
     "text": [
      "OK!\n"
     ]
    }
   ],
   "source": [
    "category = '4bf58dd8d48988d145941735'# The category ID for Chinese Restaurant.\n",
    "#search_query = 'Chinese Restaurant' # This won't work, because Foursquare will search 'Chinese' OR 'Restaurant'\n",
    "search_radius = 2500\n",
    "print('OK!')"
   ]
  },
  {
   "cell_type": "markdown",
   "metadata": {},
   "source": [
    "### 4.2.1. Get Information from Foursquare API and convert it to a Dataframe\n",
    "\n",
    "#### Define the corresponding URL"
   ]
  },
  {
   "cell_type": "code",
   "execution_count": 28,
   "metadata": {},
   "outputs": [
    {
     "data": {
      "text/plain": [
       "'https://api.foursquare.com/v2/venues/search?client_id=AHPVRYQIQT4LOYOT0ZEN0OJR24ERX1E5CXPFRKFQ1D44JWJH&client_secret=XJ1ASSSXERK2W5OLNAC00KYF4NZM2SECBZKHHE5GELUXLEG0&ll=52.364483,4.88949&v=20190512&categoryId=4bf58dd8d48988d145941735&radius=2500&limit=50'"
      ]
     },
     "execution_count": 28,
     "metadata": {},
     "output_type": "execute_result"
    }
   ],
   "source": [
    "url = 'https://api.foursquare.com/v2/venues/search?client_id={}&client_secret={}&ll={},{}&v={}&categoryId={}&radius={}&limit={}'.format(CLIENT_ID, CLIENT_SECRET, center_lat, center_lon, VERSION, category, search_radius, LIMIT)\n",
    "url"
   ]
  },
  {
   "cell_type": "markdown",
   "metadata": {},
   "source": [
    "#### Send the GET Request and examine the results"
   ]
  },
  {
   "cell_type": "code",
   "execution_count": 29,
   "metadata": {
    "scrolled": true
   },
   "outputs": [],
   "source": [
    "results = requests.get(url).json()\n",
    "#results"
   ]
  },
  {
   "cell_type": "markdown",
   "metadata": {},
   "source": [
    "#### Get relevant part of JSON and transform it into a pandas dataframe"
   ]
  },
  {
   "cell_type": "code",
   "execution_count": 30,
   "metadata": {},
   "outputs": [
    {
     "data": {
      "text/html": [
       "<div>\n",
       "<style scoped>\n",
       "    .dataframe tbody tr th:only-of-type {\n",
       "        vertical-align: middle;\n",
       "    }\n",
       "\n",
       "    .dataframe tbody tr th {\n",
       "        vertical-align: top;\n",
       "    }\n",
       "\n",
       "    .dataframe thead th {\n",
       "        text-align: right;\n",
       "    }\n",
       "</style>\n",
       "<table border=\"1\" class=\"dataframe\">\n",
       "  <thead>\n",
       "    <tr style=\"text-align: right;\">\n",
       "      <th></th>\n",
       "      <th>categories</th>\n",
       "      <th>hasPerk</th>\n",
       "      <th>id</th>\n",
       "      <th>location.address</th>\n",
       "      <th>location.cc</th>\n",
       "      <th>location.city</th>\n",
       "      <th>location.country</th>\n",
       "      <th>location.crossStreet</th>\n",
       "      <th>location.distance</th>\n",
       "      <th>location.formattedAddress</th>\n",
       "      <th>location.labeledLatLngs</th>\n",
       "      <th>location.lat</th>\n",
       "      <th>location.lng</th>\n",
       "      <th>location.neighborhood</th>\n",
       "      <th>location.postalCode</th>\n",
       "      <th>location.state</th>\n",
       "      <th>name</th>\n",
       "      <th>referralId</th>\n",
       "      <th>venuePage.id</th>\n",
       "    </tr>\n",
       "  </thead>\n",
       "  <tbody>\n",
       "    <tr>\n",
       "      <th>0</th>\n",
       "      <td>[{'id': '4bf58dd8d48988d145941735', 'name': 'C...</td>\n",
       "      <td>False</td>\n",
       "      <td>4a27080af964a520978f1fe3</td>\n",
       "      <td>Reguliersdwarsstraat 35</td>\n",
       "      <td>NL</td>\n",
       "      <td>Amsterdam</td>\n",
       "      <td>Nederland</td>\n",
       "      <td>NaN</td>\n",
       "      <td>233</td>\n",
       "      <td>[Reguliersdwarsstraat 35, 1017 BK Amsterdam, N...</td>\n",
       "      <td>[{'label': 'display', 'lat': 52.36648519837077...</td>\n",
       "      <td>52.366485</td>\n",
       "      <td>4.890521</td>\n",
       "      <td>NaN</td>\n",
       "      <td>1017 BK</td>\n",
       "      <td>Noord-Holland</td>\n",
       "      <td>Sichuan Food</td>\n",
       "      <td>v-1560255574</td>\n",
       "      <td>NaN</td>\n",
       "    </tr>\n",
       "    <tr>\n",
       "      <th>1</th>\n",
       "      <td>[{'id': '4bf58dd8d48988d145941735', 'name': 'C...</td>\n",
       "      <td>False</td>\n",
       "      <td>5c6c24f2ecb3ed0025efda90</td>\n",
       "      <td>Leidsestraat 95</td>\n",
       "      <td>NL</td>\n",
       "      <td>Amsterdam</td>\n",
       "      <td>Nederland</td>\n",
       "      <td>NaN</td>\n",
       "      <td>370</td>\n",
       "      <td>[Leidsestraat 95, 1017 NZ Amsterdam, Nederland]</td>\n",
       "      <td>[{'label': 'display', 'lat': 52.36466053020717...</td>\n",
       "      <td>52.364661</td>\n",
       "      <td>4.884053</td>\n",
       "      <td>Stadsdeel Centrum</td>\n",
       "      <td>1017 NZ</td>\n",
       "      <td>Zuid-Holland</td>\n",
       "      <td>Full Moon Garden</td>\n",
       "      <td>v-1560255574</td>\n",
       "      <td>527559836</td>\n",
       "    </tr>\n",
       "  </tbody>\n",
       "</table>\n",
       "</div>"
      ],
      "text/plain": [
       "                                          categories  hasPerk  \\\n",
       "0  [{'id': '4bf58dd8d48988d145941735', 'name': 'C...    False   \n",
       "1  [{'id': '4bf58dd8d48988d145941735', 'name': 'C...    False   \n",
       "\n",
       "                         id         location.address location.cc  \\\n",
       "0  4a27080af964a520978f1fe3  Reguliersdwarsstraat 35          NL   \n",
       "1  5c6c24f2ecb3ed0025efda90          Leidsestraat 95          NL   \n",
       "\n",
       "  location.city location.country location.crossStreet  location.distance  \\\n",
       "0     Amsterdam        Nederland                  NaN                233   \n",
       "1     Amsterdam        Nederland                  NaN                370   \n",
       "\n",
       "                           location.formattedAddress  \\\n",
       "0  [Reguliersdwarsstraat 35, 1017 BK Amsterdam, N...   \n",
       "1    [Leidsestraat 95, 1017 NZ Amsterdam, Nederland]   \n",
       "\n",
       "                             location.labeledLatLngs  location.lat  \\\n",
       "0  [{'label': 'display', 'lat': 52.36648519837077...     52.366485   \n",
       "1  [{'label': 'display', 'lat': 52.36466053020717...     52.364661   \n",
       "\n",
       "   location.lng location.neighborhood location.postalCode location.state  \\\n",
       "0      4.890521                   NaN             1017 BK  Noord-Holland   \n",
       "1      4.884053     Stadsdeel Centrum             1017 NZ   Zuid-Holland   \n",
       "\n",
       "               name    referralId venuePage.id  \n",
       "0      Sichuan Food  v-1560255574          NaN  \n",
       "1  Full Moon Garden  v-1560255574    527559836  "
      ]
     },
     "execution_count": 30,
     "metadata": {},
     "output_type": "execute_result"
    }
   ],
   "source": [
    "# assign relevant part of JSON to venues\n",
    "venues = results['response']['venues']\n",
    "\n",
    "# tranform venues into a dataframe\n",
    "dataframe = json_normalize(venues)\n",
    "dataframe.head(2)"
   ]
  },
  {
   "cell_type": "markdown",
   "metadata": {},
   "source": [
    "#### Define information of interest and filter dataframe"
   ]
  },
  {
   "cell_type": "code",
   "execution_count": 31,
   "metadata": {},
   "outputs": [
    {
     "data": {
      "text/html": [
       "<div>\n",
       "<style scoped>\n",
       "    .dataframe tbody tr th:only-of-type {\n",
       "        vertical-align: middle;\n",
       "    }\n",
       "\n",
       "    .dataframe tbody tr th {\n",
       "        vertical-align: top;\n",
       "    }\n",
       "\n",
       "    .dataframe thead th {\n",
       "        text-align: right;\n",
       "    }\n",
       "</style>\n",
       "<table border=\"1\" class=\"dataframe\">\n",
       "  <thead>\n",
       "    <tr style=\"text-align: right;\">\n",
       "      <th></th>\n",
       "      <th>name</th>\n",
       "      <th>categories</th>\n",
       "      <th>address</th>\n",
       "      <th>cc</th>\n",
       "      <th>city</th>\n",
       "      <th>country</th>\n",
       "      <th>crossStreet</th>\n",
       "      <th>distance</th>\n",
       "      <th>formattedAddress</th>\n",
       "      <th>labeledLatLngs</th>\n",
       "      <th>lat</th>\n",
       "      <th>lng</th>\n",
       "      <th>neighborhood</th>\n",
       "      <th>postalCode</th>\n",
       "      <th>state</th>\n",
       "      <th>id</th>\n",
       "    </tr>\n",
       "  </thead>\n",
       "  <tbody>\n",
       "    <tr>\n",
       "      <th>0</th>\n",
       "      <td>Sichuan Food</td>\n",
       "      <td>Chinese Restaurant</td>\n",
       "      <td>Reguliersdwarsstraat 35</td>\n",
       "      <td>NL</td>\n",
       "      <td>Amsterdam</td>\n",
       "      <td>Nederland</td>\n",
       "      <td>NaN</td>\n",
       "      <td>233</td>\n",
       "      <td>[Reguliersdwarsstraat 35, 1017 BK Amsterdam, N...</td>\n",
       "      <td>[{'label': 'display', 'lat': 52.36648519837077...</td>\n",
       "      <td>52.366485</td>\n",
       "      <td>4.890521</td>\n",
       "      <td>NaN</td>\n",
       "      <td>1017 BK</td>\n",
       "      <td>Noord-Holland</td>\n",
       "      <td>4a27080af964a520978f1fe3</td>\n",
       "    </tr>\n",
       "    <tr>\n",
       "      <th>1</th>\n",
       "      <td>Full Moon Garden</td>\n",
       "      <td>Chinese Restaurant</td>\n",
       "      <td>Leidsestraat 95</td>\n",
       "      <td>NL</td>\n",
       "      <td>Amsterdam</td>\n",
       "      <td>Nederland</td>\n",
       "      <td>NaN</td>\n",
       "      <td>370</td>\n",
       "      <td>[Leidsestraat 95, 1017 NZ Amsterdam, Nederland]</td>\n",
       "      <td>[{'label': 'display', 'lat': 52.36466053020717...</td>\n",
       "      <td>52.364661</td>\n",
       "      <td>4.884053</td>\n",
       "      <td>Stadsdeel Centrum</td>\n",
       "      <td>1017 NZ</td>\n",
       "      <td>Zuid-Holland</td>\n",
       "      <td>5c6c24f2ecb3ed0025efda90</td>\n",
       "    </tr>\n",
       "  </tbody>\n",
       "</table>\n",
       "</div>"
      ],
      "text/plain": [
       "               name          categories                  address  cc  \\\n",
       "0      Sichuan Food  Chinese Restaurant  Reguliersdwarsstraat 35  NL   \n",
       "1  Full Moon Garden  Chinese Restaurant          Leidsestraat 95  NL   \n",
       "\n",
       "        city    country crossStreet  distance  \\\n",
       "0  Amsterdam  Nederland         NaN       233   \n",
       "1  Amsterdam  Nederland         NaN       370   \n",
       "\n",
       "                                    formattedAddress  \\\n",
       "0  [Reguliersdwarsstraat 35, 1017 BK Amsterdam, N...   \n",
       "1    [Leidsestraat 95, 1017 NZ Amsterdam, Nederland]   \n",
       "\n",
       "                                      labeledLatLngs        lat       lng  \\\n",
       "0  [{'label': 'display', 'lat': 52.36648519837077...  52.366485  4.890521   \n",
       "1  [{'label': 'display', 'lat': 52.36466053020717...  52.364661  4.884053   \n",
       "\n",
       "        neighborhood postalCode          state                        id  \n",
       "0                NaN    1017 BK  Noord-Holland  4a27080af964a520978f1fe3  \n",
       "1  Stadsdeel Centrum    1017 NZ   Zuid-Holland  5c6c24f2ecb3ed0025efda90  "
      ]
     },
     "execution_count": 31,
     "metadata": {},
     "output_type": "execute_result"
    }
   ],
   "source": [
    "# keep only columns that include venue name, and anything that is associated with location\n",
    "filtered_columns = ['name', 'categories'] + [col for col in dataframe.columns if col.startswith('location.')] + ['id']\n",
    "dataframe_filtered = dataframe.loc[:, filtered_columns]\n",
    "\n",
    "# function that extracts the category of the venue\n",
    "def get_category_type(row):\n",
    "    try:\n",
    "        categories_list = row['categories']\n",
    "    except:\n",
    "        categories_list = row['venue.categories']\n",
    "        \n",
    "    if len(categories_list) == 0:\n",
    "        return None\n",
    "    else:\n",
    "        return categories_list[0]['name']\n",
    "\n",
    "# filter the category for each row\n",
    "dataframe_filtered['categories'] = dataframe_filtered.apply(get_category_type, axis=1)\n",
    "\n",
    "# clean column names by keeping only last term\n",
    "dataframe_filtered.columns = [column.split('.')[-1] for column in dataframe_filtered.columns]\n",
    "\n",
    "dataframe_filtered.head(2)"
   ]
  },
  {
   "cell_type": "code",
   "execution_count": 32,
   "metadata": {},
   "outputs": [
    {
     "data": {
      "text/plain": [
       "(50, 16)"
      ]
     },
     "execution_count": 32,
     "metadata": {},
     "output_type": "execute_result"
    }
   ],
   "source": [
    "dataframe_filtered.shape"
   ]
  },
  {
   "cell_type": "markdown",
   "metadata": {},
   "source": [
    "### 4.2.2. Visualize Chinese Restaurants in Amsterdam City Proper"
   ]
  },
  {
   "cell_type": "code",
   "execution_count": 33,
   "metadata": {
    "scrolled": false
   },
   "outputs": [
    {
     "data": {
      "text/html": [
       "<div style=\"width:100%;\"><div style=\"position:relative;width:100%;height:0;padding-bottom:60%;\"><iframe src=\"data:text/html;charset=utf-8;base64,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\" style=\"position:absolute;width:100%;height:100%;left:0;top:0;border:none !important;\" allowfullscreen webkitallowfullscreen mozallowfullscreen></iframe></div></div>"
      ],
      "text/plain": [
       "<folium.folium.Map at 0x118c830f0>"
      ]
     },
     "execution_count": 33,
     "metadata": {},
     "output_type": "execute_result"
    }
   ],
   "source": [
    "# generate map centred around the 10 candidate neighborhoods\n",
    "venues_map = folium.Map(location=[center_lat, center_lon], tiles='cartodbpositron', zoom_start=14)\n",
    "\n",
    "#-----------------\n",
    "\n",
    "# add a grey circle to represent the search radius\n",
    "folium.features.Circle(\n",
    "    [center_lat, center_lon],\n",
    "    radius=search_radius,\n",
    "    color='#004B7F', # Navy\n",
    "    opacity=0.3,\n",
    "    fill = False\n",
    ").add_to(venues_map)\n",
    "\n",
    "#-----------------\n",
    "# add the Chinese restaurants as blue circle markers\n",
    "for lat, lng, label in zip(dataframe_filtered.lat, dataframe_filtered.lng, dataframe_filtered.name):\n",
    "    folium.features.CircleMarker( # use CircleMarker, the circle size always stay the same\n",
    "        [lat, lng],\n",
    "        radius=4,\n",
    "        color='blue',\n",
    "        opacity=0.6,\n",
    "        popup=label,\n",
    "        fill = True,\n",
    "        fill_color='blue',\n",
    "        fill_opacity=0.3\n",
    "    ).add_to(venues_map)\n",
    "\n",
    "#-----------------\n",
    "# add markers that represent one-person households to the map\n",
    "for lat, lng, neighborhood, oph in zip(df['Lat'], df['Lon'], df['Neighborhood'], df['One-person Households']):\n",
    "    label = '{}'.format(neighborhood)\n",
    "    label = folium.Popup(label, parse_html=True)\n",
    "    folium.Circle( # use Circle, the circle size changes with the map\n",
    "        [lat, lng],\n",
    "        radius=oph/25,\n",
    "        popup=label,\n",
    "        color='#FF7F0F', # Orange\n",
    "        fill=True,\n",
    "        fill_color='#FF7F0F', \n",
    "        fill_opacity=0.3\n",
    "    ).add_to(venues_map)\n",
    "\n",
    "#-----------------\n",
    "# add markers that represent total households to the map\n",
    "for lat, lng, neighborhood, households in zip(df['Lat'], df['Lon'], df['Neighborhood'], df['Total Households']):\n",
    "    label = '{}'.format(neighborhood)\n",
    "    label = folium.Popup(label, parse_html=True)\n",
    "    folium.Circle(\n",
    "        [lat, lng],\n",
    "        radius=households/25,\n",
    "        popup=label,\n",
    "        color='#1E77B4', # Blue\n",
    "        fill=False\n",
    "    ).add_to(venues_map)\n",
    "\n",
    "#-----------------\n",
    "\n",
    "# add markers that represent population density to the map\n",
    "for lat, lng, neighborhood, density in zip(df['Lat'], df['Lon'], df['Neighborhood'], df['Population Density']):\n",
    "    label = '{}'.format(neighborhood)\n",
    "    label = folium.Popup(label, parse_html=True)\n",
    "    folium.Circle(\n",
    "        [lat, lng],\n",
    "        radius=density/100,\n",
    "        popup=label,\n",
    "        color='#2A9E2A', # Green\n",
    "        fill=False\n",
    "    ).add_to(venues_map)\n",
    "\n",
    "#-----------------\n",
    "\n",
    "# add a red circle marker to represent the center of Amsterdam city proper\n",
    "folium.features.CircleMarker(\n",
    "    [center_lat, center_lon],\n",
    "    radius=8,\n",
    "    color='red',\n",
    "    popup='Amsterdam City Proper',\n",
    "    fill = True,\n",
    "    fill_color = 'red',\n",
    "    fill_opacity = 0.6\n",
    ").add_to(venues_map)\n",
    "\n",
    "#-----------------\n",
    "\n",
    "# display map\n",
    "venues_map"
   ]
  },
  {
   "cell_type": "markdown",
   "metadata": {},
   "source": [
    "#### Legends of the above map\n",
    "\n",
    "1. **Orange circles**: the number of one-person households.\n",
    "2. **Blue circles**: the number of households in total.\n",
    "3. **Green circles**: the population density.\n",
    "4. **Red circle** in the center: the center of the map.\n",
    "5. **Grey circle**: the search radius."
   ]
  },
  {
   "cell_type": "markdown",
   "metadata": {},
   "source": [
    "### Learnings from the above map\n",
    "\n",
    "Our criteria to further narrow down our choice of neighborhoods are as such:\n",
    "\n",
    "* There must be at least one existing Chinese restaurant in or near the neighborhood.\n",
    "  * Because if there isn't at least one Chinese restaurant, it might mean that there isn't such demand. Opening a Chinese restaurant without understanding why there isn't any existing ones would be more risky.\n",
    "* There cannot more than 10 existing Chinese restaurants.\n",
    "  * The more existing Chinese restaurants means more competition.\n",
    "\n",
    "If we apply the criteria, from the above map, we can exclude these neighborhoods:\n",
    "\n",
    "* Too many existing Chinese restaurants\n",
    "  * Nieuwmarkt\n",
    "* No existing Chinese restaurant in or near the neighborhood\n",
    "  * Weesperzijde\n",
    "  * Frederik Hendrikbuurt\n",
    "  * Grachtengordel-West\n",
    "  * Nieuwe Pijp"
   ]
  },
  {
   "cell_type": "markdown",
   "metadata": {},
   "source": [
    "## 4.3. In-depth Analysis of One Neighborhood - Oude Pijp\n",
    "\n",
    "Let's use Oude Pijp as an example to show how we look into one particular candidate neighborhood.\n",
    "\n",
    "### 4.3.1. Get the coordinates of the center of Oude Pijp\n",
    "\n",
    "#### Re-index the dataframe"
   ]
  },
  {
   "cell_type": "code",
   "execution_count": 35,
   "metadata": {},
   "outputs": [
    {
     "data": {
      "text/html": [
       "<div>\n",
       "<style scoped>\n",
       "    .dataframe tbody tr th:only-of-type {\n",
       "        vertical-align: middle;\n",
       "    }\n",
       "\n",
       "    .dataframe tbody tr th {\n",
       "        vertical-align: top;\n",
       "    }\n",
       "\n",
       "    .dataframe thead th {\n",
       "        text-align: right;\n",
       "    }\n",
       "</style>\n",
       "<table border=\"1\" class=\"dataframe\">\n",
       "  <thead>\n",
       "    <tr style=\"text-align: right;\">\n",
       "      <th></th>\n",
       "      <th>level_0</th>\n",
       "      <th>index</th>\n",
       "      <th>Neighborhood</th>\n",
       "      <th>ID</th>\n",
       "      <th>Total Households</th>\n",
       "      <th>One-person Households</th>\n",
       "      <th>Population Density</th>\n",
       "      <th>Lat</th>\n",
       "      <th>Lon</th>\n",
       "      <th>Percentage of One-person Households</th>\n",
       "    </tr>\n",
       "  </thead>\n",
       "  <tbody>\n",
       "    <tr>\n",
       "      <th>0</th>\n",
       "      <td>0</td>\n",
       "      <td>6</td>\n",
       "      <td>Jordaan</td>\n",
       "      <td>WK036306</td>\n",
       "      <td>12985</td>\n",
       "      <td>8625</td>\n",
       "      <td>23289</td>\n",
       "      <td>52.374500</td>\n",
       "      <td>4.879491</td>\n",
       "      <td>66.42</td>\n",
       "    </tr>\n",
       "    <tr>\n",
       "      <th>1</th>\n",
       "      <td>1</td>\n",
       "      <td>19</td>\n",
       "      <td>Van Lennepbuurt</td>\n",
       "      <td>WK036319</td>\n",
       "      <td>4535</td>\n",
       "      <td>3005</td>\n",
       "      <td>28005</td>\n",
       "      <td>52.365144</td>\n",
       "      <td>4.867845</td>\n",
       "      <td>66.26</td>\n",
       "    </tr>\n",
       "    <tr>\n",
       "      <th>2</th>\n",
       "      <td>2</td>\n",
       "      <td>4</td>\n",
       "      <td>Nieuwmarkt</td>\n",
       "      <td>WK036304</td>\n",
       "      <td>6485</td>\n",
       "      <td>4285</td>\n",
       "      <td>13741</td>\n",
       "      <td>52.372160</td>\n",
       "      <td>4.900096</td>\n",
       "      <td>66.08</td>\n",
       "    </tr>\n",
       "    <tr>\n",
       "      <th>3</th>\n",
       "      <td>3</td>\n",
       "      <td>24</td>\n",
       "      <td>Oude Pijp</td>\n",
       "      <td>WK036324</td>\n",
       "      <td>9875</td>\n",
       "      <td>6510</td>\n",
       "      <td>23353</td>\n",
       "      <td>52.355216</td>\n",
       "      <td>4.894574</td>\n",
       "      <td>65.92</td>\n",
       "    </tr>\n",
       "    <tr>\n",
       "      <th>4</th>\n",
       "      <td>4</td>\n",
       "      <td>25</td>\n",
       "      <td>Nieuwe Pijp</td>\n",
       "      <td>WK036325</td>\n",
       "      <td>7905</td>\n",
       "      <td>5015</td>\n",
       "      <td>23998</td>\n",
       "      <td>52.351856</td>\n",
       "      <td>4.897728</td>\n",
       "      <td>63.44</td>\n",
       "    </tr>\n",
       "  </tbody>\n",
       "</table>\n",
       "</div>"
      ],
      "text/plain": [
       "   level_0  index     Neighborhood        ID  Total Households  \\\n",
       "0        0      6          Jordaan  WK036306             12985   \n",
       "1        1     19  Van Lennepbuurt  WK036319              4535   \n",
       "2        2      4       Nieuwmarkt  WK036304              6485   \n",
       "3        3     24        Oude Pijp  WK036324              9875   \n",
       "4        4     25      Nieuwe Pijp  WK036325              7905   \n",
       "\n",
       "   One-person Households  Population Density        Lat       Lon  \\\n",
       "0                   8625               23289  52.374500  4.879491   \n",
       "1                   3005               28005  52.365144  4.867845   \n",
       "2                   4285               13741  52.372160  4.900096   \n",
       "3                   6510               23353  52.355216  4.894574   \n",
       "4                   5015               23998  52.351856  4.897728   \n",
       "\n",
       "   Percentage of One-person Households  \n",
       "0                                66.42  \n",
       "1                                66.26  \n",
       "2                                66.08  \n",
       "3                                65.92  \n",
       "4                                63.44  "
      ]
     },
     "execution_count": 35,
     "metadata": {},
     "output_type": "execute_result"
    }
   ],
   "source": [
    "# Re-index the df. Otherwise we won't be able to find the coordinates of the correct neighborhood\n",
    "df = df.reset_index()\n",
    "df.head()"
   ]
  },
  {
   "cell_type": "code",
   "execution_count": 36,
   "metadata": {},
   "outputs": [
    {
     "data": {
      "text/html": [
       "<div>\n",
       "<style scoped>\n",
       "    .dataframe tbody tr th:only-of-type {\n",
       "        vertical-align: middle;\n",
       "    }\n",
       "\n",
       "    .dataframe tbody tr th {\n",
       "        vertical-align: top;\n",
       "    }\n",
       "\n",
       "    .dataframe thead th {\n",
       "        text-align: right;\n",
       "    }\n",
       "</style>\n",
       "<table border=\"1\" class=\"dataframe\">\n",
       "  <thead>\n",
       "    <tr style=\"text-align: right;\">\n",
       "      <th></th>\n",
       "      <th>Neighborhood</th>\n",
       "      <th>ID</th>\n",
       "      <th>Total Households</th>\n",
       "      <th>One-person Households</th>\n",
       "      <th>Population Density</th>\n",
       "      <th>Lat</th>\n",
       "      <th>Lon</th>\n",
       "      <th>Percentage of One-person Households</th>\n",
       "    </tr>\n",
       "  </thead>\n",
       "  <tbody>\n",
       "    <tr>\n",
       "      <th>0</th>\n",
       "      <td>Jordaan</td>\n",
       "      <td>WK036306</td>\n",
       "      <td>12985</td>\n",
       "      <td>8625</td>\n",
       "      <td>23289</td>\n",
       "      <td>52.374500</td>\n",
       "      <td>4.879491</td>\n",
       "      <td>66.42</td>\n",
       "    </tr>\n",
       "    <tr>\n",
       "      <th>1</th>\n",
       "      <td>Van Lennepbuurt</td>\n",
       "      <td>WK036319</td>\n",
       "      <td>4535</td>\n",
       "      <td>3005</td>\n",
       "      <td>28005</td>\n",
       "      <td>52.365144</td>\n",
       "      <td>4.867845</td>\n",
       "      <td>66.26</td>\n",
       "    </tr>\n",
       "    <tr>\n",
       "      <th>2</th>\n",
       "      <td>Nieuwmarkt</td>\n",
       "      <td>WK036304</td>\n",
       "      <td>6485</td>\n",
       "      <td>4285</td>\n",
       "      <td>13741</td>\n",
       "      <td>52.372160</td>\n",
       "      <td>4.900096</td>\n",
       "      <td>66.08</td>\n",
       "    </tr>\n",
       "    <tr>\n",
       "      <th>3</th>\n",
       "      <td>Oude Pijp</td>\n",
       "      <td>WK036324</td>\n",
       "      <td>9875</td>\n",
       "      <td>6510</td>\n",
       "      <td>23353</td>\n",
       "      <td>52.355216</td>\n",
       "      <td>4.894574</td>\n",
       "      <td>65.92</td>\n",
       "    </tr>\n",
       "    <tr>\n",
       "      <th>4</th>\n",
       "      <td>Nieuwe Pijp</td>\n",
       "      <td>WK036325</td>\n",
       "      <td>7905</td>\n",
       "      <td>5015</td>\n",
       "      <td>23998</td>\n",
       "      <td>52.351856</td>\n",
       "      <td>4.897728</td>\n",
       "      <td>63.44</td>\n",
       "    </tr>\n",
       "  </tbody>\n",
       "</table>\n",
       "</div>"
      ],
      "text/plain": [
       "      Neighborhood        ID  Total Households  One-person Households  \\\n",
       "0          Jordaan  WK036306             12985                   8625   \n",
       "1  Van Lennepbuurt  WK036319              4535                   3005   \n",
       "2       Nieuwmarkt  WK036304              6485                   4285   \n",
       "3        Oude Pijp  WK036324              9875                   6510   \n",
       "4      Nieuwe Pijp  WK036325              7905                   5015   \n",
       "\n",
       "   Population Density        Lat       Lon  \\\n",
       "0               23289  52.374500  4.879491   \n",
       "1               28005  52.365144  4.867845   \n",
       "2               13741  52.372160  4.900096   \n",
       "3               23353  52.355216  4.894574   \n",
       "4               23998  52.351856  4.897728   \n",
       "\n",
       "   Percentage of One-person Households  \n",
       "0                                66.42  \n",
       "1                                66.26  \n",
       "2                                66.08  \n",
       "3                                65.92  \n",
       "4                                63.44  "
      ]
     },
     "execution_count": 36,
     "metadata": {},
     "output_type": "execute_result"
    }
   ],
   "source": [
    "df.drop(\"index\", axis=1, inplace=True)\n",
    "df.drop(\"level_0\", axis=1, inplace=True)\n",
    "df.head()"
   ]
  },
  {
   "cell_type": "markdown",
   "metadata": {},
   "source": [
    "#### Extract the center of Oude Pijp from the data frame"
   ]
  },
  {
   "cell_type": "code",
   "execution_count": 37,
   "metadata": {},
   "outputs": [
    {
     "name": "stdout",
     "output_type": "stream",
     "text": [
      "The center of Oude Pijp is: ( 52.355216 ,  4.894574 )\n"
     ]
    }
   ],
   "source": [
    "# get the index of Oude Pijp in the dataframe\n",
    "index_OP = df[df['Neighborhood']==\"Oude Pijp\"].index.item()\n",
    "\n",
    "# Retrieve the lat lon location of Oude Pijp\n",
    "lat_OP = df['Lat'].iloc[index_OP]\n",
    "lon_OP = df['Lon'].iloc[index_OP]\n",
    "lon_OP = 4.894574\n",
    "print(\"The center of Oude Pijp is: (\", lat_OP, \", \", lon_OP, \")\")"
   ]
  },
  {
   "cell_type": "markdown",
   "metadata": {},
   "source": [
    "### 4.3.2. All Asian and Chinese Restaurants within Reachable Distance\n",
    "\n",
    "We want to extend our query to restaurants that serve all sorts of Asian food. And observe how many Chinese restaurants in comparison of all Asian restaurants.\n",
    "\n",
    "The reachable distance means that people live within this distance are more likely to walk to dine in a restaurant or get takeout food.\n",
    "For this project, we define the reachable distance as **500 meters (about 0.3 mile)**."
   ]
  },
  {
   "cell_type": "markdown",
   "metadata": {},
   "source": [
    "#### Search For Asian Restaurants\n",
    "\n",
    "Search for all Asian restaurants using Foursquare API and store the information in a dataframe: **df_ar**<br>\n",
    "\n",
    "_* Due to the limitation of Foursquare API, the limit is 50. But somehow, folium map does not show up if the limit is 50. Therefore, I have to adjust the limit to 45. There are definitely more Asian restaurants in the area._"
   ]
  },
  {
   "cell_type": "code",
   "execution_count": 38,
   "metadata": {},
   "outputs": [
    {
     "data": {
      "text/plain": [
       "'https://api.foursquare.com/v2/venues/search?client_id=AHPVRYQIQT4LOYOT0ZEN0OJR24ERX1E5CXPFRKFQ1D44JWJH&client_secret=XJ1ASSSXERK2W5OLNAC00KYF4NZM2SECBZKHHE5GELUXLEG0&ll=52.355216,4.894574&v=20190512&categoryId=4bf58dd8d48988d142941735&radius=500&limit=45'"
      ]
     },
     "execution_count": 38,
     "metadata": {},
     "output_type": "execute_result"
    }
   ],
   "source": [
    "# Define the corresponding URL for Foursquare API\n",
    "search_radius = 500\n",
    "LIMIT = 45\n",
    "category = '4bf58dd8d48988d142941735'# The category ID for category: Asian Restaurants.\n",
    "url = 'https://api.foursquare.com/v2/venues/search?client_id={}&client_secret={}&ll={},{}&v={}&categoryId={}&radius={}&limit={}'.format(CLIENT_ID, CLIENT_SECRET, lat_OP, lon_OP, VERSION, category, search_radius, LIMIT)\n",
    "url"
   ]
  },
  {
   "cell_type": "code",
   "execution_count": 39,
   "metadata": {},
   "outputs": [
    {
     "data": {
      "text/html": [
       "<div>\n",
       "<style scoped>\n",
       "    .dataframe tbody tr th:only-of-type {\n",
       "        vertical-align: middle;\n",
       "    }\n",
       "\n",
       "    .dataframe tbody tr th {\n",
       "        vertical-align: top;\n",
       "    }\n",
       "\n",
       "    .dataframe thead th {\n",
       "        text-align: right;\n",
       "    }\n",
       "</style>\n",
       "<table border=\"1\" class=\"dataframe\">\n",
       "  <thead>\n",
       "    <tr style=\"text-align: right;\">\n",
       "      <th></th>\n",
       "      <th>name</th>\n",
       "      <th>categories</th>\n",
       "      <th>address</th>\n",
       "      <th>cc</th>\n",
       "      <th>city</th>\n",
       "      <th>country</th>\n",
       "      <th>crossStreet</th>\n",
       "      <th>distance</th>\n",
       "      <th>formattedAddress</th>\n",
       "      <th>labeledLatLngs</th>\n",
       "      <th>lat</th>\n",
       "      <th>lng</th>\n",
       "      <th>neighborhood</th>\n",
       "      <th>postalCode</th>\n",
       "      <th>state</th>\n",
       "      <th>id</th>\n",
       "    </tr>\n",
       "  </thead>\n",
       "  <tbody>\n",
       "    <tr>\n",
       "      <th>0</th>\n",
       "      <td>Sapporo Ramen Sora</td>\n",
       "      <td>Ramen Restaurant</td>\n",
       "      <td>Ceintuurbaan 49 H</td>\n",
       "      <td>NL</td>\n",
       "      <td>Amsterdam</td>\n",
       "      <td>Nederland</td>\n",
       "      <td>NaN</td>\n",
       "      <td>492</td>\n",
       "      <td>[Ceintuurbaan 49 H, Amsterdam, Nederland]</td>\n",
       "      <td>[{'label': 'display', 'lat': 52.3525348486028,...</td>\n",
       "      <td>52.352535</td>\n",
       "      <td>4.888807</td>\n",
       "      <td>Oude Pijp</td>\n",
       "      <td>NaN</td>\n",
       "      <td>Noord-Holland</td>\n",
       "      <td>5809097f38fa964fcbea75d9</td>\n",
       "    </tr>\n",
       "    <tr>\n",
       "      <th>1</th>\n",
       "      <td>Sushi Op De Markt</td>\n",
       "      <td>Sushi Restaurant</td>\n",
       "      <td>Albert Cuypstraat 172</td>\n",
       "      <td>NL</td>\n",
       "      <td>Amsterdam</td>\n",
       "      <td>Nederland</td>\n",
       "      <td>NaN</td>\n",
       "      <td>60</td>\n",
       "      <td>[Albert Cuypstraat 172, 1072 CN Amsterdam, Ned...</td>\n",
       "      <td>[{'label': 'display', 'lat': 52.3557292653159,...</td>\n",
       "      <td>52.355729</td>\n",
       "      <td>4.894302</td>\n",
       "      <td>NaN</td>\n",
       "      <td>1072 CN</td>\n",
       "      <td>Noord-Holland</td>\n",
       "      <td>4e3d028d52b1a04aff12447a</td>\n",
       "    </tr>\n",
       "  </tbody>\n",
       "</table>\n",
       "</div>"
      ],
      "text/plain": [
       "                 name        categories                address  cc       city  \\\n",
       "0  Sapporo Ramen Sora  Ramen Restaurant      Ceintuurbaan 49 H  NL  Amsterdam   \n",
       "1   Sushi Op De Markt  Sushi Restaurant  Albert Cuypstraat 172  NL  Amsterdam   \n",
       "\n",
       "     country crossStreet  distance  \\\n",
       "0  Nederland         NaN       492   \n",
       "1  Nederland         NaN        60   \n",
       "\n",
       "                                    formattedAddress  \\\n",
       "0          [Ceintuurbaan 49 H, Amsterdam, Nederland]   \n",
       "1  [Albert Cuypstraat 172, 1072 CN Amsterdam, Ned...   \n",
       "\n",
       "                                      labeledLatLngs        lat       lng  \\\n",
       "0  [{'label': 'display', 'lat': 52.3525348486028,...  52.352535  4.888807   \n",
       "1  [{'label': 'display', 'lat': 52.3557292653159,...  52.355729  4.894302   \n",
       "\n",
       "  neighborhood postalCode          state                        id  \n",
       "0    Oude Pijp        NaN  Noord-Holland  5809097f38fa964fcbea75d9  \n",
       "1          NaN    1072 CN  Noord-Holland  4e3d028d52b1a04aff12447a  "
      ]
     },
     "execution_count": 39,
     "metadata": {},
     "output_type": "execute_result"
    }
   ],
   "source": [
    "# Send the GET Request\n",
    "results = requests.get(url).json()\n",
    "\n",
    "# Get relevant part of JSON and transform it into a pandas dataframe\n",
    "restaurants = results['response']['venues'] # assign relevant part of JSON to venues\n",
    "\n",
    "# tranform venues into a dataframe\n",
    "df_ar_temp = json_normalize(restaurants)\n",
    "df_ar_temp.head(2)\n",
    "\n",
    "# ----------Define information of interest and filter dataframe------------\n",
    "\n",
    "# keep only columns that include venue name, and anything that is associated with location\n",
    "filtered_columns = ['name','categories'] + [col for col in df_ar_temp.columns if col.startswith('location.')] + ['id']\n",
    "df_ar = df_ar_temp.loc[:, filtered_columns]\n",
    "\n",
    "# function that extracts the category of the venue\n",
    "def get_category_type(row):\n",
    "    try:\n",
    "        categories_list = row['categories']\n",
    "    except:\n",
    "        categories_list = row['venue.categories']\n",
    "        \n",
    "    if len(categories_list) == 0:\n",
    "        return None\n",
    "    else:\n",
    "        return categories_list[0]['name']\n",
    "\n",
    "# filter the category for each row\n",
    "df_ar['categories'] = df_ar.apply(get_category_type, axis=1)\n",
    "\n",
    "# clean column names by keeping only last term\n",
    "df_ar.columns = [column.split('.')[-1] for column in df_ar.columns]\n",
    "\n",
    "df_ar.head(2)"
   ]
  },
  {
   "cell_type": "code",
   "execution_count": 40,
   "metadata": {},
   "outputs": [
    {
     "name": "stdout",
     "output_type": "stream",
     "text": [
      "There are at least 45 Asian restaurants in Oude Pijp.\n"
     ]
    }
   ],
   "source": [
    "print(\"There are at least\", df_ar.shape[0], \"Asian restaurants in Oude Pijp.\")"
   ]
  },
  {
   "cell_type": "markdown",
   "metadata": {},
   "source": [
    "#### Search For All Chinese Restaurants\n",
    "\n",
    "Search for all Chinese restaurants using Foursquare API and store the information in a dataframe: **df_cr**"
   ]
  },
  {
   "cell_type": "code",
   "execution_count": 41,
   "metadata": {},
   "outputs": [
    {
     "data": {
      "text/plain": [
       "'https://api.foursquare.com/v2/venues/search?client_id=AHPVRYQIQT4LOYOT0ZEN0OJR24ERX1E5CXPFRKFQ1D44JWJH&client_secret=XJ1ASSSXERK2W5OLNAC00KYF4NZM2SECBZKHHE5GELUXLEG0&ll=52.355216,4.894574&v=20190512&categoryId=4bf58dd8d48988d145941735&radius=500&limit=45'"
      ]
     },
     "execution_count": 41,
     "metadata": {},
     "output_type": "execute_result"
    }
   ],
   "source": [
    "# Define the corresponding URL for Foursquare API\n",
    "search_radius = 500\n",
    "LIMIT = 45\n",
    "category = '4bf58dd8d48988d145941735'# The category ID for category: Chinese Restaurants.\n",
    "url = 'https://api.foursquare.com/v2/venues/search?client_id={}&client_secret={}&ll={},{}&v={}&categoryId={}&radius={}&limit={}'.format(CLIENT_ID, CLIENT_SECRET, lat_OP, lon_OP, VERSION, category, search_radius, LIMIT)\n",
    "url"
   ]
  },
  {
   "cell_type": "code",
   "execution_count": 42,
   "metadata": {},
   "outputs": [
    {
     "data": {
      "text/html": [
       "<div>\n",
       "<style scoped>\n",
       "    .dataframe tbody tr th:only-of-type {\n",
       "        vertical-align: middle;\n",
       "    }\n",
       "\n",
       "    .dataframe tbody tr th {\n",
       "        vertical-align: top;\n",
       "    }\n",
       "\n",
       "    .dataframe thead th {\n",
       "        text-align: right;\n",
       "    }\n",
       "</style>\n",
       "<table border=\"1\" class=\"dataframe\">\n",
       "  <thead>\n",
       "    <tr style=\"text-align: right;\">\n",
       "      <th></th>\n",
       "      <th>name</th>\n",
       "      <th>categories</th>\n",
       "      <th>address</th>\n",
       "      <th>cc</th>\n",
       "      <th>city</th>\n",
       "      <th>country</th>\n",
       "      <th>distance</th>\n",
       "      <th>formattedAddress</th>\n",
       "      <th>labeledLatLngs</th>\n",
       "      <th>lat</th>\n",
       "      <th>lng</th>\n",
       "      <th>neighborhood</th>\n",
       "      <th>postalCode</th>\n",
       "      <th>state</th>\n",
       "      <th>id</th>\n",
       "    </tr>\n",
       "  </thead>\n",
       "  <tbody>\n",
       "    <tr>\n",
       "      <th>0</th>\n",
       "      <td>Nam Kee</td>\n",
       "      <td>Chinese Restaurant</td>\n",
       "      <td>Marie Heinekenplein 4</td>\n",
       "      <td>NL</td>\n",
       "      <td>Amsterdam</td>\n",
       "      <td>Nederland</td>\n",
       "      <td>353</td>\n",
       "      <td>[Marie Heinekenplein 4, 1072 MH Amsterdam, Ned...</td>\n",
       "      <td>[{'label': 'display', 'lat': 52.35753532093774...</td>\n",
       "      <td>52.357535</td>\n",
       "      <td>4.891028</td>\n",
       "      <td>NaN</td>\n",
       "      <td>1072 MH</td>\n",
       "      <td>Noord-Holland</td>\n",
       "      <td>4cb0621139458cfa2a1c02a0</td>\n",
       "    </tr>\n",
       "    <tr>\n",
       "      <th>1</th>\n",
       "      <td>DIM SUM NOW</td>\n",
       "      <td>Dim Sum Restaurant</td>\n",
       "      <td>Ferdinand Bolstraat 36</td>\n",
       "      <td>NL</td>\n",
       "      <td>Amsterdam</td>\n",
       "      <td>Nederland</td>\n",
       "      <td>297</td>\n",
       "      <td>[Ferdinand Bolstraat 36, Amsterdam, Nederland]</td>\n",
       "      <td>[{'label': 'display', 'lat': 52.35636390084206...</td>\n",
       "      <td>52.356364</td>\n",
       "      <td>4.890616</td>\n",
       "      <td>NaN</td>\n",
       "      <td>NaN</td>\n",
       "      <td>Noord-Holland</td>\n",
       "      <td>5638f655cd104d694fe3fec3</td>\n",
       "    </tr>\n",
       "  </tbody>\n",
       "</table>\n",
       "</div>"
      ],
      "text/plain": [
       "          name          categories                 address  cc       city  \\\n",
       "0      Nam Kee  Chinese Restaurant   Marie Heinekenplein 4  NL  Amsterdam   \n",
       "1  DIM SUM NOW  Dim Sum Restaurant  Ferdinand Bolstraat 36  NL  Amsterdam   \n",
       "\n",
       "     country  distance                                   formattedAddress  \\\n",
       "0  Nederland       353  [Marie Heinekenplein 4, 1072 MH Amsterdam, Ned...   \n",
       "1  Nederland       297     [Ferdinand Bolstraat 36, Amsterdam, Nederland]   \n",
       "\n",
       "                                      labeledLatLngs        lat       lng  \\\n",
       "0  [{'label': 'display', 'lat': 52.35753532093774...  52.357535  4.891028   \n",
       "1  [{'label': 'display', 'lat': 52.35636390084206...  52.356364  4.890616   \n",
       "\n",
       "  neighborhood postalCode          state                        id  \n",
       "0          NaN    1072 MH  Noord-Holland  4cb0621139458cfa2a1c02a0  \n",
       "1          NaN        NaN  Noord-Holland  5638f655cd104d694fe3fec3  "
      ]
     },
     "execution_count": 42,
     "metadata": {},
     "output_type": "execute_result"
    }
   ],
   "source": [
    "# Send the GET Request\n",
    "results = requests.get(url).json()\n",
    "\n",
    "# Get relevant part of JSON and transform it into a pandas dataframe\n",
    "restaurants = results['response']['venues'] # assign relevant part of JSON to venues\n",
    "\n",
    "# tranform venues into a dataframe\n",
    "df_cr_temp = json_normalize(restaurants)\n",
    "df_cr_temp.head(2)\n",
    "\n",
    "# ----------Define information of interest and filter dataframe------------\n",
    "\n",
    "# keep only columns that include venue name, and anything that is associated with location\n",
    "filtered_columns = ['name','categories'] + [col for col in df_cr_temp.columns if col.startswith('location.')] + ['id']\n",
    "df_cr = df_cr_temp.loc[:, filtered_columns]\n",
    "\n",
    "# function that extracts the category of the venue\n",
    "def get_category_type(row):\n",
    "    try:\n",
    "        categories_list = row['categories']\n",
    "    except:\n",
    "        categories_list = row['venue.categories']\n",
    "        \n",
    "    if len(categories_list) == 0:\n",
    "        return None\n",
    "    else:\n",
    "        return categories_list[0]['name']\n",
    "\n",
    "# filter the category for each row\n",
    "df_cr['categories'] = df_cr.apply(get_category_type, axis=1)\n",
    "\n",
    "# clean column names by keeping only last term\n",
    "df_cr.columns = [column.split('.')[-1] for column in df_cr.columns]\n",
    "\n",
    "df_cr.head(2)"
   ]
  },
  {
   "cell_type": "code",
   "execution_count": 664,
   "metadata": {},
   "outputs": [
    {
     "name": "stdout",
     "output_type": "stream",
     "text": [
      "There are 10 Chinese restaurants in Oude Pijp.\n"
     ]
    }
   ],
   "source": [
    "print(\"There are\", df_cr.shape[0], \"Chinese restaurants in Oude Pijp.\")"
   ]
  },
  {
   "cell_type": "markdown",
   "metadata": {},
   "source": [
    "#### Try to get the Most Popular Venues\n",
    "\n",
    "We can retrieve the most popular venues via [Foursquare \"Get Trending Venues\"](https://developer.foursquare.com/docs/api/venues/trending). This information gives us an impression what are the places people like the most."
   ]
  },
  {
   "cell_type": "code",
   "execution_count": 706,
   "metadata": {},
   "outputs": [
    {
     "data": {
      "text/plain": [
       "{'meta': {'code': 200, 'requestId': '5cfecfde4c1f6753b1f4c321'},\n",
       " 'response': {'venues': []}}"
      ]
     },
     "execution_count": 706,
     "metadata": {},
     "output_type": "execute_result"
    }
   ],
   "source": [
    "# Define the corresponding URL for Foursquare API\n",
    "search_radius = 500\n",
    "LIMIT = 45\n",
    "url = 'https://api.foursquare.com/v2/venues/trending?client_id={}&client_secret={}&ll={},{}&v={}&radius={}&limit={}'.format(CLIENT_ID, CLIENT_SECRET, lat_OP, lon_OP, VERSION, search_radius, LIMIT)\n",
    "\n",
    "# --------Send the GET Request--------\n",
    "results = requests.get(url).json()\n",
    "results"
   ]
  },
  {
   "cell_type": "markdown",
   "metadata": {},
   "source": [
    "<div class=\"alert alert-block alert-info\" style=\"margin-top: 20px\">\n",
    "UNFORTUNATELY, the trending venue return us 0 result.\n",
    "</div>\n",
    "\n",
    "\n",
    "#### Draw all the Asian and Chinese restaurants on the map"
   ]
  },
  {
   "cell_type": "code",
   "execution_count": 723,
   "metadata": {
    "scrolled": false
   },
   "outputs": [
    {
     "data": {
      "text/html": [
       "<div style=\"width:100%;\"><div style=\"position:relative;width:100%;height:0;padding-bottom:60%;\"><iframe src=\"data:text/html;charset=utf-8;base64,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\" style=\"position:absolute;width:100%;height:100%;left:0;top:0;border:none !important;\" allowfullscreen webkitallowfullscreen mozallowfullscreen></iframe></div></div>"
      ],
      "text/plain": [
       "<folium.folium.Map at 0x138c9e898>"
      ]
     },
     "execution_count": 723,
     "metadata": {},
     "output_type": "execute_result"
    }
   ],
   "source": [
    "# generate map centred around the 10 candidate neighborhoods\n",
    "map_OP = folium.Map(location=[lat_OP, lon_OP], tiles='cartodbpositron', zoom_start=16)\n",
    "\n",
    "# add a grey circle to represent the search radius\n",
    "folium.features.Circle(\n",
    "    [lat_OP, lon_OP],\n",
    "    radius=search_radius,\n",
    "    color='#004B7F', # Navy\n",
    "    opacity=0.3,\n",
    "    fill = False\n",
    ").add_to(map_OP)\n",
    "\n",
    "# add a red circle to represent the center of Amsterdam city proper\n",
    "folium.features.CircleMarker(\n",
    "    [lat_OP, lon_OP],\n",
    "    radius=8,\n",
    "    color='red',\n",
    "    popup='Oude Pijp',\n",
    "    fill = True,\n",
    "    fill_color = 'red',\n",
    "    fill_opacity = 0.6\n",
    ").add_to(map_OP)\n",
    "\n",
    "# add Asian restaurants as light blue dots\n",
    "for lat, lng, label in zip(df_ar.lat, df_ar.lng, df_ar.name):\n",
    "    folium.features.CircleMarker( # use CircleMarker, the circle size always stay the same\n",
    "        [lat, lng],\n",
    "        radius=4,\n",
    "        color='blue', # light blue\n",
    "        opacity=0.5,\n",
    "        popup=label,\n",
    "        fill = True,\n",
    "        fill_color='blue',\n",
    "        fill_opacity=0.3\n",
    "    ).add_to(map_OP)\n",
    "\n",
    "# add Chinese restaurants as orange dots\n",
    "for lat, lng, label in zip(df_cr.lat, df_cr.lng, df_cr.name):\n",
    "    folium.features.CircleMarker( # use CircleMarker, the circle size always stay the same\n",
    "        [lat, lng],\n",
    "        radius=6,\n",
    "        color='#FF7F0F', # Orange\n",
    "        popup=label,\n",
    "        fill = True,\n",
    "        fill_color='#FF7F0F',\n",
    "        fill_opacity=1\n",
    "    ).add_to(map_OP)\n",
    "\n",
    "# display map\n",
    "map_OP"
   ]
  },
  {
   "cell_type": "markdown",
   "metadata": {},
   "source": [
    "#### Learnings of the map above\n",
    "\n",
    "1. According to Foursquare there are 10 Chinese Restaurants within the range of 500 meters in the neighborhood Oude Pijp.\n",
    "2. As to Asian restaurants. Due to the 45 limit, we can only show 45 Asian restaurants here. The actual number could be higher.\n",
    "3. From the map we learn that in the North and Southeast of Oude Pijp seems to be a void of all restaurants. If we  open a Chinese restaurant there, we will likely have enough customers.\n",
    "\n",
    "<a id=\"433\"></a>\n",
    "\n",
    "### 4.3.3. Repeat the In-depth Analysis\n",
    "\n",
    "We can see the value of the in-depth analysis. Later on, we will repeat this analysis to all other remaining candidate neighborhoods. We will compare more categories of venues. Such as, Chinese restaurants and all other restaurants, café, snack bars, etc.\n",
    "\n",
    "<br>\n",
    "<hr style=\"border: 1px solid orange;\">"
   ]
  },
  {
   "cell_type": "markdown",
   "metadata": {},
   "source": [
    "# 5. Conclusion and Future Work\n",
    "\n",
    "## The limitation of this project\n",
    "\n",
    "#### Only focus on residential information\n",
    "\n",
    "This project is limited by the lack of crucial information. So far we have been focused quite a lot on residences information and one-person households. However, customers can also come from nearby business venues. We are unable to validate any assumption or answer any questions, because the information of business venues in Amsterdam is not as available as dermographic information.\n",
    "\n",
    "#### Rent of a venue is not taken into consideration\n",
    "\n",
    "Due to lack of information, we are unable to include rental price as part of the analysis. The rent is a large part of costs for a restaurant. In order to be able to predict the potential profit, it is crucial to include potential rental price.\n",
    "\n",
    "#### Lack of understanding of how popular existing Chinese restaurants are\n",
    "\n",
    "For a free Foursquare account, information that helps us understand how popular a venu is is not accessible. Information such as:\n",
    "\n",
    "* **Likes**: how many people like a place\n",
    "* **Rating**: star rating of a place\n",
    "\n",
    "\n",
    "## Next Step\n",
    "\n",
    "* Continue to do more in-depth analysis as mentioned in [4.3.3.](#433).\n",
    "* Include rental price of each neighborhood in future analysis.\n",
    "\n",
    "<div class=\"\" style=\"margin-top: 200px\">\n",
    "</div>"
   ]
  }
 ],
 "metadata": {
  "kernelspec": {
   "display_name": "Python 3",
   "language": "python",
   "name": "python3"
  },
  "language_info": {
   "codemirror_mode": {
    "name": "ipython",
    "version": 3
   },
   "file_extension": ".py",
   "mimetype": "text/x-python",
   "name": "python",
   "nbconvert_exporter": "python",
   "pygments_lexer": "ipython3",
   "version": "3.7.3"
  }
 },
 "nbformat": 4,
 "nbformat_minor": 2
}
